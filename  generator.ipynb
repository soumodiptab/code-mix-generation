{
  "cells": [
    {
      "cell_type": "code",
      "execution_count": null,
      "metadata": {
        "id": "PtUcwVRJlfhl"
      },
      "outputs": [],
      "source": [
        "      \n",
        "# https://www.kdnuggets.com/2020/07/pytorch-lstm-text-generation-tutorial.html"
      ]
    },
    {
      "cell_type": "code",
      "execution_count": null,
      "metadata": {
        "id": "SJvh4SzMlfhu",
        "colab": {
          "base_uri": "https://localhost:8080/"
        },
        "outputId": "19b17362-a44a-4de8-acba-851e9854e183"
      },
      "outputs": [
        {
          "output_type": "stream",
          "name": "stdout",
          "text": [
            "Installing collected packages: cleantext\n",
            "Successfully installed cleantext-1.1.4\n"
          ]
        }
      ],
      "source": [
        "import torchtext\n",
        "from torchtext.data.utils import get_tokenizer\n",
        "from sklearn.model_selection import train_test_split\n",
        "import re\n",
        "!pip install cleantext\n",
        "from cleantext import clean\n",
        "import os\n",
        "import random\n",
        "import math\n",
        "from nltk.tokenize import TweetTokenizer\n",
        "import torch\n",
        "from torch.utils.data import Dataset, DataLoader\n",
        "from nltk.tokenize import sent_tokenize\n",
        "from nltk.tokenize import word_tokenize\n"
      ]
    },
    {
      "cell_type": "code",
      "source": [
        "from google.colab import drive\n",
        "drive.mount('/content/drive')"
      ],
      "metadata": {
        "colab": {
          "base_uri": "https://localhost:8080/"
        },
        "id": "xGPI0XEDmRLG",
        "outputId": "e7adfcc5-2417-4654-a47b-300545ee075b"
      },
      "execution_count": null,
      "outputs": [
        {
          "output_type": "stream",
          "name": "stdout",
          "text": [
            "Mounted at /content/drive\n"
          ]
        }
      ]
    },
    {
      "cell_type": "code",
      "execution_count": null,
      "metadata": {
        "id": "FR7KMupBlfhw"
      },
      "outputs": [],
      "source": [
        "# Preprocess the data \n",
        "\n",
        "tweet_tokenizer = TweetTokenizer()\n",
        "tokenizer = get_tokenizer('basic_english')\n",
        "\n",
        "def replace_dates(text):\n",
        "        date_format_a = re.sub(r'\\d{1,2}/\\d{1,2}/\\d{2,4}', ' <DATE> ', text)\n",
        "        date_format_b = re.sub(\n",
        "            r'[A-Za-z]{2,8}\\s\\d{1,2},?\\s\\d {4}', ' <DATE> ', date_format_a)\n",
        "        date_format_c = re.sub(\n",
        "            r'\\d{2} [A-Z][a-z]{2,8} \\d{4}', ' <DATE> ', date_format_b)\n",
        "        return date_format_c\n",
        "\n",
        "def replace_concurrent_punctuation(text):\n",
        "    # replace concurrent punctuation with single punctuation\n",
        "    return re.sub(r'(!|\"|\\#|\\$|%|&|\\'|\\(|\\)|\\*|\\+|,|-|\\.|\\/|:|;|<|=|>|\\?|@|\\[|\\\\|\\]|\\^|_|‘|\\{|\\||\\}|~){2,}', r' ', text)\n",
        "\n",
        "def replace_hash_tags(text):\n",
        "        return re.sub(r'(\\s|^)#(\\w+)', ' <HASHTAG> ', text)\n",
        "\n",
        "def remove_special_characters(text):\n",
        "        # remove special characters other than punctuation\n",
        "        return re.sub(r'[^A-Za-z0-9\\s\\.\\,\\!\\?\\'\\\"\\:\\;]', ' ', text)\n",
        "\n",
        "def remove_extra_spaces(text):\n",
        "        return re.sub(r'\\s{2,}', ' ', text)\n",
        "\n",
        "def replace_hyphenated_words(text):\n",
        "        # replace hyphenated words with words seperated by space\n",
        "        return re.sub(r'(\\w+)-(\\w+)', r'\\1 \\2', text)\n",
        "\n",
        "def read_data(filename, n_lines):\n",
        "    with open(filename, 'r') as f:\n",
        "        lines = []\n",
        "        for _ in range(n_lines):\n",
        "            line = f.readline().strip()\n",
        "            line = re.sub(r'<|>', ' ', line)\n",
        "            line = replace_dates(line)\n",
        "            line = replace_hyphenated_words(line)\n",
        "            line = replace_hash_tags(line)\n",
        "            # remove < and > from the text\n",
        "            line = clean(line, no_emoji=True,\n",
        "                         no_urls=True,\n",
        "                         no_emails=True,\n",
        "                         no_phone_numbers=True,\n",
        "                         no_currency_symbols=True,           \n",
        "                         replace_with_url=\" <URL> \",\n",
        "                         replace_with_email=\" <EMAIL> \",\n",
        "                         replace_with_phone_number=\" <PHONE> \",\n",
        "                         replace_with_currency_symbol=\" <CURRENCY> \",\n",
        "                         lower=True)\n",
        "            line = remove_special_characters(line)\n",
        "            #line = replace_concurrent_punctuation(line)\n",
        "            line = clean(line,no_numbers=True,no_digits=True,no_punct=True, replace_with_number=\" <NUMBER> \",replace_with_digit=\" \",replace_with_punct=\"\")\n",
        "            line = \"<BEGIN> \" + line + \" <END>\"\n",
        "            line = remove_extra_spaces(line)\n",
        "            tokens=tokenizer(line)\n",
        "            if len(tokens)>1:\n",
        "                lines.append(tokens)\n",
        "    return lines\n",
        "\n",
        "\n",
        "def save_data(filename, lines):\n",
        "    # Save the data to a file\n",
        "    with open(filename, 'w')as f:\n",
        "        for line in lines:\n",
        "            line = ' '.join(line)\n",
        "            f.write(line.strip()+'\\n')\n",
        "\n",
        "\n"
      ]
    },
    {
      "cell_type": "code",
      "execution_count": null,
      "metadata": {
        "id": "5jP6_F93lfh2"
      },
      "outputs": [],
      "source": [
        "# if not os.path.exists('./processed_data'):\n",
        "#     os.mkdir('processed_data')\n",
        "\n",
        "# data = read_data('data/alternate/L3Cube-HingCorpus_roman/R11_final_data/concatenated_train_final_shuffled.txt',20000)\n",
        "# train,valid = train_test_split(data, test_size=0.3, random_state=42)\n",
        "# valid,test=train_test_split(valid, test_size=0.5, random_state=42)\n",
        "# #print(train[1:100])\n",
        "# save_data('processed_data/train.txt', train)\n",
        "# save_data('processed_data/valid.txt', valid)\n",
        "# save_data('processed_data/test.txt', test)"
      ]
    },
    {
      "cell_type": "code",
      "execution_count": null,
      "metadata": {
        "id": "ot_9u1Eglfh6"
      },
      "outputs": [],
      "source": [
        "#---------------------------------------------------------------------"
      ]
    },
    {
      "cell_type": "code",
      "execution_count": null,
      "metadata": {
        "id": "Syia4OQklfh8"
      },
      "outputs": [],
      "source": [
        "import torch\n",
        "from torch.utils.data import Dataset, DataLoader\n",
        "import numpy as np"
      ]
    },
    {
      "cell_type": "code",
      "execution_count": null,
      "metadata": {
        "id": "fBFNamp0lfh9"
      },
      "outputs": [],
      "source": [
        "class L3CubeDataset(Dataset):\n",
        "    def __init__(self,filename,vocab=None,ngram=5):\n",
        "        data = self.read_data(filename)\n",
        "        if vocab is None:\n",
        "            self.vocab, self.ind2vocab = self.build_vocab(data)\n",
        "        else:\n",
        "            self.vocab = vocab\n",
        "            self.ind2vocab = {v:k for k,v in vocab.items()}\n",
        "        self.n = ngram\n",
        "        self.x,self.y = self.__create_dataset(data)\n",
        "        \n",
        "    def get_vocab(self):\n",
        "        return self.vocab\n",
        "\n",
        "    def read_data(self,filename):\n",
        "        lines = []\n",
        "        with open(filename, 'r') as f:\n",
        "            for line in f.readlines():\n",
        "                lines.append(line.strip().split(' '))\n",
        "        return lines\n",
        "\n",
        "    def build_vocab(self,data):\n",
        "        word_set = set()\n",
        "        for line in data:\n",
        "            for word in line:\n",
        "                if word not in word_set:\n",
        "                    word_set.add(word)\n",
        "        # sort the vocab\n",
        "        word_list = sorted(list(word_set))\n",
        "        vocab_dict = {\"<unk>\":0}\n",
        "        for i,word in enumerate(word_list):\n",
        "            vocab_dict[word]=i+1\n",
        "        ind2word = {v:k for k,v in vocab_dict.items()}\n",
        "        return vocab_dict, ind2word\n",
        "    \n",
        "    def get_ngram(self, tokens):\n",
        "        n =self.n\n",
        "        ngram = []\n",
        "        if len(tokens) == 0:\n",
        "            return None\n",
        "        tokens = [\"<begin>\" for _ in range(n-2)] + tokens\n",
        "        for i in range(len(tokens)-n+1):\n",
        "            ngram.append(tokens[i:i+n])\n",
        "        return ngram\n",
        "    \n",
        "    def __get_seq(self, tokens):\n",
        "        vec= []\n",
        "        for word in tokens:\n",
        "            if word in self.vocab:\n",
        "                vec.append(self.vocab[word])\n",
        "            else:\n",
        "                vec.append(self.vocab[\"<unk>\"])\n",
        "        return vec\n",
        "\n",
        "    def __create_dataset(self, data):\n",
        "        x = []\n",
        "        y= []\n",
        "        ngrams = []\n",
        "        for line in data:\n",
        "            ngrams.extend(self.get_ngram(line))\n",
        "        \n",
        "        for ngram in ngrams:\n",
        "            x_tokens = ngram[:-1]\n",
        "            y_tokens = ngram[1:]\n",
        "            x.append(self.__get_seq(x_tokens))\n",
        "            y.append(self.__get_seq(y_tokens))\n",
        "        return torch.LongTensor(x),torch.LongTensor(y)\n",
        "\n",
        "    def __len__(self):\n",
        "        return len(self.x)\n",
        "\n",
        "    def __getitem__(self, idx):\n",
        "        return self.x[idx], self.y[idx]\n",
        "    \n",
        "    def get_dataloader(self, batch_size,shuffle=True):\n",
        "        return DataLoader(self, batch_size=batch_size, shuffle=shuffle,drop_last=True)\n",
        "    "
      ]
    },
    {
      "cell_type": "code",
      "execution_count": null,
      "metadata": {
        "id": "CGApPw19lfiA"
      },
      "outputs": [],
      "source": [
        "import torch\n",
        "from torch.utils.data import Dataset, DataLoader\n",
        "\n",
        "\n",
        "class LinceDataset(Dataset):\n",
        "    def __init__(self, filename, vocab_english=None, vocab_hinglish=None, ngram=5):\n",
        "        data_english, data_hinglish = self.read_data(filename)\n",
        "        self.word_count ={}\n",
        "        self.single_counts = 0\n",
        "        for list_tokens in data_hinglish:\n",
        "            for token in list_tokens:\n",
        "                if token not in self.word_count:\n",
        "                    self.word_count[token] = 0\n",
        "                self.word_count[token] += 1\n",
        "        \n",
        "        for word in self.word_count:\n",
        "            if self.word_count[word] == 1: \n",
        "                self.single_counts += 1\n",
        "\n",
        "        if vocab_hinglish is None:\n",
        "            self.vocab_h, self.ind2vocab_h = self.build_vocab(data_hinglish)\n",
        "        else:\n",
        "            self.vocab_h = vocab_hinglish\n",
        "            self.ind2vocab_h = {v: k for k, v in vocab_hinglish.items()}\n",
        "        self.n = ngram\n",
        "        self.x, self.y = self.__create_dataset(data_hinglish)\n",
        "\n",
        "    def get_vocab(self):\n",
        "        return self.vocab_h\n",
        "\n",
        "    def read_data(self, filename):\n",
        "        english = []\n",
        "        hinglish = []\n",
        "        with open(filename, 'r') as f:\n",
        "            for line in f.readlines():\n",
        "                e = line.strip().split('\\t')[0]\n",
        "                english.append(e.strip().split(' '))\n",
        "                try:\n",
        "                    h = line.strip().split('\\t')[1]\n",
        "                except:\n",
        "                    h = \"\"\n",
        "                hinglish.append(h.strip().split(' '))\n",
        "        return english, hinglish\n",
        "\n",
        "    def build_vocab(self, data):\n",
        "        word_set = set()\n",
        "        for line in data:\n",
        "            for word in line:\n",
        "                if word not in word_set:\n",
        "                    word_set.add(word)\n",
        "        # sort the vocab\n",
        "        word_list = sorted(list(word_set))\n",
        "        vocab_dict = {\"<unk>\": 0}\n",
        "        for i, word in enumerate(word_list):\n",
        "            vocab_dict[word] = i+1\n",
        "        ind2word = {v: k for k, v in vocab_dict.items()}\n",
        "        return vocab_dict, ind2word\n",
        "\n",
        "    def get_ngram(self, tokens):\n",
        "        n = self.n\n",
        "        ngram = []\n",
        "        if len(tokens) == 0:\n",
        "            return None\n",
        "        tokens = [\"<begin>\" for _ in range(n-2)] + tokens\n",
        "        for i in range(len(tokens)-n+1):\n",
        "            ngram.append(tokens[i:i+n])\n",
        "        return ngram\n",
        "\n",
        "    def __get_seq(self, tokens):\n",
        "        vec = []\n",
        "        for word in tokens:\n",
        "            if word in self.vocab_h:\n",
        "                vec.append(self.vocab_h[word])\n",
        "            else:\n",
        "                vec.append(self.vocab_h[\"<unk>\"])\n",
        "        return vec\n",
        "\n",
        "    def __create_dataset(self, data):\n",
        "        x = []\n",
        "        y = []\n",
        "        ngrams = []\n",
        "        for line in data:\n",
        "            ngrams.extend(self.get_ngram(line))\n",
        "\n",
        "        for ngram in ngrams:\n",
        "            x_tokens = ngram[:-1]\n",
        "            y_tokens = ngram[1:]\n",
        "            x.append(self.__get_seq(x_tokens))\n",
        "            y.append(self.__get_seq(y_tokens))\n",
        "        return torch.LongTensor(x), torch.LongTensor(y)\n",
        "\n",
        "    def __len__(self):\n",
        "        return len(self.x)\n",
        "\n",
        "    def __getitem__(self, idx):\n",
        "        return self.x[idx], self.y[idx]\n",
        "\n",
        "    def get_dataloader(self, batch_size, shuffle=True):\n",
        "        return DataLoader(self, batch_size=batch_size, shuffle=shuffle, drop_last=True)"
      ]
    },
    {
      "cell_type": "code",
      "execution_count": null,
      "metadata": {
        "id": "cDzcpfl0lfiD"
      },
      "outputs": [],
      "source": [
        "train_dataset = LinceDataset('drive/MyDrive/model_nlp_project/data/lince/train.txt')\n",
        "test_dataset = LinceDataset('drive/MyDrive/model_nlp_project/data/lince/test.txt',vocab_hinglish=train_dataset.get_vocab())\n",
        "validation_dataset = LinceDataset('drive/MyDrive/model_nlp_project/data/lince/valid.txt',vocab_hinglish=train_dataset.get_vocab())"
      ]
    },
    {
      "cell_type": "code",
      "source": [],
      "metadata": {
        "id": "GoCA8xPbmkZw"
      },
      "execution_count": null,
      "outputs": []
    },
    {
      "cell_type": "code",
      "execution_count": null,
      "metadata": {
        "id": "w6qkcuHjlfiF"
      },
      "outputs": [],
      "source": [
        "# train_dataset = L3CubeDataset('processed_data/train.txt')\n",
        "# validation_dataset = L3CubeDataset('processed_data/valid.txt',vocab=train_dataset.get_vocab())"
      ]
    },
    {
      "cell_type": "code",
      "execution_count": null,
      "metadata": {
        "id": "ZVe2YRdhlfiH",
        "outputId": "2ae5629d-5518-4877-f441-4c1418243bc5",
        "colab": {
          "base_uri": "https://localhost:8080/"
        }
      },
      "outputs": [
        {
          "output_type": "execute_result",
          "data": {
            "text/plain": [
              "9237"
            ]
          },
          "metadata": {},
          "execution_count": 12
        }
      ],
      "source": [
        "import json\n",
        "json.dump(train_dataset.get_vocab(),open('vocab.json','w'))\n",
        "len(train_dataset.get_vocab())"
      ]
    },
    {
      "cell_type": "code",
      "execution_count": null,
      "metadata": {
        "id": "l-M8gknBlfiM",
        "outputId": "101e5177-895f-4e01-cb6d-a67862b6938c",
        "colab": {
          "base_uri": "https://localhost:8080/"
        }
      },
      "outputs": [
        {
          "output_type": "stream",
          "name": "stdout",
          "text": [
            "aakhirakaar\n",
            "aalochanaatmak\n",
            "aanandadaayak\n",
            "aashcharyachakit\n",
            "aashcharyajanak\n",
            "aatmavishvaas\n",
            "aavashyakata\n",
            "acceidentally\n",
            "accidentally\n",
            "accomplished\n"
          ]
        }
      ],
      "source": [
        "vocab_dict = train_dataset.get_vocab()\n",
        "i=0\n",
        "for word in vocab_dict:\n",
        "    if i == 10:\n",
        "        break\n",
        "    if len(word) > 10:\n",
        "        print(word)\n",
        "        i+=1\n",
        "\n"
      ]
    },
    {
      "cell_type": "code",
      "execution_count": null,
      "metadata": {
        "id": "ILFqZkR0lfiP",
        "outputId": "ddcd82e1-10b9-4cd6-bc3a-10f2c3724bb1",
        "colab": {
          "base_uri": "https://localhost:8080/"
        }
      },
      "outputs": [
        {
          "output_type": "stream",
          "name": "stdout",
          "text": [
            "tensor([   1,    1,  947, 8904]) tensor([   1,  947, 8904, 8052])\n"
          ]
        }
      ],
      "source": [
        "print(train_dataset.x[2],train_dataset.y[2])"
      ]
    },
    {
      "cell_type": "code",
      "execution_count": null,
      "metadata": {
        "id": "0NuEFbxflfiQ"
      },
      "outputs": [],
      "source": [
        "import torch\n",
        "from torch import nn\n",
        "import torch.nn.functional as F\n",
        "from torch.nn.utils import clip_grad_norm_\n",
        "from tqdm import tqdm\n",
        "import numpy as np\n",
        "import os"
      ]
    },
    {
      "cell_type": "code",
      "execution_count": null,
      "metadata": {
        "id": "aOZWbu4qlfiR"
      },
      "outputs": [],
      "source": [
        "class GramNet(nn.Module):\n",
        "    def __init__(self,vocab_size, n_hidden=256, n_layers=4,embedding_dim=200, dropout=None, lr=0.001,model_save_path='.',device='cuda'):\n",
        "        super().__init__()\n",
        "        self.dropout = dropout\n",
        "        self.n_layers = n_layers\n",
        "        self.n_hidden = n_hidden\n",
        "        self.lr = lr\n",
        "        self.model_save_path = model_save_path\n",
        "        self.device = device\n",
        "        self.vocab_size = vocab_size\n",
        "        self.embedding = nn.Embedding(vocab_size, embedding_dim)\n",
        "        if dropout is not None:\n",
        "            self.rnn = nn.LSTM(embedding_dim, n_hidden, n_layers, dropout=dropout,batch_first=True)\n",
        "        else:\n",
        "            self.rnn = nn.LSTM(embedding_dim, n_hidden, n_layers,batch_first=True)\n",
        "            dropout = 0\n",
        "        self.fc = nn.Linear(n_hidden, vocab_size)\n",
        "        self.model_name = 'GramNet_'+str(n_hidden)+'_'+str(n_layers)+'_'+str(dropout)+'_'+str(lr)+'.pt'\n",
        "    \n",
        "    def forward(self, x, hidden):\n",
        "        embedded = self.embedding(x)     \n",
        "        out, hidden = self.rnn(embedded, hidden)\n",
        "#         out = self.dropout(out)\n",
        "        out = out.reshape(-1, self.n_hidden) \n",
        "        out = self.fc(out)\n",
        "        return out, hidden\n",
        "    \n",
        "    def __init_hidden(self, batch_size):\n",
        "        weight = next(self.parameters()).data\n",
        "        device = torch.device(\"cuda\" if torch.cuda.is_available() else \"cpu\")\n",
        "        hidden = (weight.new(self.n_layers, batch_size, self.n_hidden).zero_().to(device),\n",
        "                  weight.new(self.n_layers, batch_size, self.n_hidden).zero_().to(device))\n",
        "        return hidden\n",
        "    \n",
        "    def get_hidden(self,b):\n",
        "        return self.__init_hidden(b)\n",
        "\n",
        "    def accuracy(self,true, pred):\n",
        "        true = np.array(true)\n",
        "        pred = np.array(pred)\n",
        "        num_correct = sum(true == pred)\n",
        "        num_total = len(true)\n",
        "        return num_correct / num_total\n",
        "\n",
        "\n",
        "    def run_training(self,train_dataset,valid_dataset, epochs=10, batch_size=32, clip = 1,print_every=1):\n",
        "        device = self.device\n",
        "        if str(device) == 'cpu':\n",
        "            print(\"Training only supported in GPU environment\")\n",
        "            return\n",
        "        torch.cuda.empty_cache()\n",
        "        self.to(device)\n",
        "        train_loader = train_dataset.get_dataloader(batch_size)\n",
        "        optimizer = torch.optim.Adam(self.parameters(), lr=self.lr)\n",
        "        criterion = nn.CrossEntropyLoss()\n",
        "        self.train()\n",
        "        for epoch in range(epochs):\n",
        "            hidden = self.__init_hidden(batch_size)\n",
        "            for i, (x, y) in enumerate(train_loader):\n",
        "                hidden = tuple([each.data for each in hidden])\n",
        "                x, y = x.to(device), y.to(device)\n",
        "                #print(x)\n",
        "                output, hidden = self.forward(x, hidden)\n",
        "                #hidden.detach_()\n",
        "                loss = criterion(output, y.view(-1))\n",
        "                optimizer.zero_grad()\n",
        "                loss.backward()\n",
        "                clip_grad_norm_(self.parameters(), clip)\n",
        "                optimizer.step()\n",
        "            if i % print_every == 0:\n",
        "                acc,_ = self.evaluate(train_dataset)\n",
        "                acc2,_ = self.evaluate(valid_dataset)\n",
        "                self.train()\n",
        "                print(\"Epoch: {}/{}\".format(epoch+1, epochs),\n",
        "#                       \"Step: {}\".format(i),\n",
        "                      \"Loss: {}\".format(loss.item()),\n",
        "                      \"Training Accuracy: {}\".format(acc),\n",
        "                      \"Validation Accuracy: {}\".format(acc2))\n",
        "        self.save(os.path.join(self.model_save_path,self.model_name))\n",
        "                    \n",
        "    def evaluate(self, dataset,batch_size=32):\n",
        "        device = self.device\n",
        "        self.to(device)\n",
        "        self.eval()\n",
        "        loader = dataset.get_dataloader(batch_size)\n",
        "        hidden = self.__init_hidden(batch_size)\n",
        "        preds = []\n",
        "        trues = []\n",
        "        total_loss = 0\n",
        "        num_tokens = 0\n",
        "        perp = []\n",
        "        for i, (x, y) in enumerate(loader):\n",
        "            hidden = tuple([each.data for each in hidden])\n",
        "            x, y = x.to(device), y.to(device)\n",
        "            criterion = nn.CrossEntropyLoss()\n",
        "            output, hidden = self.forward(x, hidden)\n",
        "            loss = criterion(output, y.view(-1))\n",
        "            preds.extend(output.argmax(dim=1).cpu().numpy())\n",
        "            trues.extend(y.view(-1).cpu().numpy())\n",
        "            total_loss += loss.item()* batch_size\n",
        "            num_tokens += batch_size * 5\n",
        "            perp.append(2 ** loss.item())\n",
        "        perplexity = 2 ** math.exp(total_loss / num_tokens)\n",
        "        accuracy = self.accuracy(trues, preds)\n",
        "        return accuracy, preds, perplexity\n",
        "\n",
        "    def predict(self,inputs):\n",
        "        self.eval()\n",
        "        device = self.device\n",
        "        inputs = torch.LongTensor(inputs)\n",
        "        #inputs = inputs.to(device)\n",
        "        hidden = self.__init_hidden(1)\n",
        "        output, hidden = self.forward(inputs, hidden)\n",
        "        #return output.argmax(dim=1).cpu().numpy()\n",
        "\n",
        "    def save(self,filename):\n",
        "        torch.save(self.state_dict(), filename)\n",
        "\n",
        "    def load(self,filename):\n",
        "        self.load_state_dict(torch.load(filename))"
      ]
    },
    {
      "cell_type": "code",
      "execution_count": null,
      "metadata": {
        "id": "yorSrZjxlfiT",
        "outputId": "9f6a5c34-f9ce-41a4-bbe7-b3bd62b74aa1",
        "colab": {
          "base_uri": "https://localhost:8080/"
        }
      },
      "outputs": [
        {
          "output_type": "stream",
          "name": "stdout",
          "text": [
            "GramNet(\n",
            "  (embedding): Embedding(9237, 200)\n",
            "  (rnn): LSTM(200, 512, num_layers=3, batch_first=True, dropout=0.2)\n",
            "  (fc): Linear(in_features=512, out_features=9237, bias=True)\n",
            ")\n"
          ]
        }
      ],
      "source": [
        "vocab_size =len(train_dataset.get_vocab())\n",
        "net = GramNet(vocab_size,512,3,200,0.2,0.001,\"saved_models\")\n",
        "print(net)"
      ]
    },
    {
      "cell_type": "code",
      "source": [
        "device = torch.device('cuda' if torch.cuda.is_available() else 'cpu')\n",
        "torch.manual_seed(0)"
      ],
      "metadata": {
        "colab": {
          "base_uri": "https://localhost:8080/"
        },
        "id": "-gnYDstPuNBD",
        "outputId": "8e35b0b7-f631-4bda-d986-99db45ab570c"
      },
      "execution_count": null,
      "outputs": [
        {
          "output_type": "execute_result",
          "data": {
            "text/plain": [
              "<torch._C.Generator at 0x7f09fa80aff0>"
            ]
          },
          "metadata": {},
          "execution_count": 18
        }
      ]
    },
    {
      "cell_type": "code",
      "source": [
        "net.load('./drive/MyDrive/model_nlp_project/v1.pt')"
      ],
      "metadata": {
        "id": "XbSUmSoZuKQ5"
      },
      "execution_count": null,
      "outputs": []
    },
    {
      "cell_type": "code",
      "execution_count": null,
      "metadata": {
        "id": "Hf8UagvxlfiU"
      },
      "outputs": [],
      "source": [
        "# #net.run_training(train_dataset,validation_dataset, epochs=80, batch_size=64, clip = 1,print_every=1)\n",
        "train_stats = \"\"\"Epoch: 1/80 Loss: 4.5537919998168945 Training Accuracy: 0.22085860688233427 Validation Accuracy: 0.19896640826873385\n",
        "Epoch: 2/80 Loss: 4.471576690673828 Training Accuracy: 0.26114018395179195 Validation Accuracy: 0.215984334625323\n",
        "Epoch: 3/80 Loss: 3.970032215118408 Training Accuracy: 0.3101783024104028 Validation Accuracy: 0.21961805555555555\n",
        "Epoch: 4/80 Loss: 3.6524453163146973 Training Accuracy: 0.3547737274024738 Validation Accuracy: 0.22040536175710596\n",
        "Epoch: 5/80 Loss: 3.5003488063812256 Training Accuracy: 0.3924461822074215 Validation Accuracy: 0.21759932170542637\n",
        "Epoch: 6/80 Loss: 3.3980283737182617 Training Accuracy: 0.4235153028861402 Validation Accuracy: 0.2194969315245478\n",
        "Epoch: 7/80 Loss: 3.014065980911255 Training Accuracy: 0.44787206628607673 Validation Accuracy: 0.21537871447028423\n",
        "Epoch: 8/80 Loss: 2.737579584121704 Training Accuracy: 0.4696543966064066 Validation Accuracy: 0.21535852713178294\n",
        "Epoch: 9/80 Loss: 2.865597724914551 Training Accuracy: 0.4891298961306692 Validation Accuracy: 0.21335998062015504\n",
        "Epoch: 10/80 Loss: 2.801888942718506 Training Accuracy: 0.5038356327307326 Validation Accuracy: 0.21406653746770027\n",
        "Epoch: 11/80 Loss: 2.871608018875122 Training Accuracy: 0.5169778782112274 Validation Accuracy: 0.21188630490956073\n",
        "Epoch: 12/80 Loss: 2.5750842094421387 Training Accuracy: 0.5275878131937837 Validation Accuracy: 0.21331960594315247\n",
        "Epoch: 13/80 Loss: 2.703486442565918 Training Accuracy: 0.5353061568347606 Validation Accuracy: 0.21004925710594316\n",
        "Epoch: 14/80 Loss: 2.473367214202881 Training Accuracy: 0.5444839240405963 Validation Accuracy: 0.21136143410852712\n",
        "Epoch: 15/80 Loss: 2.394268274307251 Training Accuracy: 0.5509410680304472 Validation Accuracy: 0.21029150516795866\n",
        "Epoch: 16/80 Loss: 2.518132209777832 Training Accuracy: 0.5580523509356169 Validation Accuracy: 0.21047319121447028\n",
        "Epoch: 17/80 Loss: 2.558898448944092 Training Accuracy: 0.563188828100222 Validation Accuracy: 0.21023094315245477\n",
        "Epoch: 18/80 Loss: 2.4203193187713623 Training Accuracy: 0.5684739732001268 Validation Accuracy: 0.2082122093023256\n",
        "Epoch: 19/80 Loss: 2.3452253341674805 Training Accuracy: 0.5729587892483349 Validation Accuracy: 0.2096858850129199\n",
        "Epoch: 20/80 Loss: 2.546687602996826 Training Accuracy: 0.5763137289882652 Validation Accuracy: 0.20774790051679587\n",
        "Epoch: 21/80 Loss: 2.4848430156707764 Training Accuracy: 0.5803550190294957 Validation Accuracy: 0.21004925710594316\n",
        "Epoch: 22/80 Loss: 2.2809205055236816 Training Accuracy: 0.5825825602600698 Validation Accuracy: 0.20948401162790697\n",
        "Epoch: 23/80 Loss: 2.3257436752319336 Training Accuracy: 0.5857739652711703 Validation Accuracy: 0.20792958656330748\n",
        "Epoch: 24/80 Loss: 2.3423948287963867 Training Accuracy: 0.5875654138915318 Validation Accuracy: 0.20960513565891473\n",
        "Epoch: 25/80 Loss: 2.339360237121582 Training Accuracy: 0.5900531240088804 Validation Accuracy: 0.20986757105943152\n",
        "Epoch: 26/80 Loss: 2.198197841644287 Training Accuracy: 0.5919387289882652 Validation Accuracy: 0.20754602713178294\n",
        "Epoch: 27/80 Loss: 2.141395092010498 Training Accuracy: 0.5940845028544244 Validation Accuracy: 0.2099483204134367\n",
        "Epoch: 28/80 Loss: 2.3439297676086426 Training Accuracy: 0.5959155962575325 Validation Accuracy: 0.20867651808785528\n",
        "Epoch: 29/80 Loss: 2.173868179321289 Training Accuracy: 0.5974840429749445 Validation Accuracy: 0.20859576873385013\n",
        "Epoch: 30/80 Loss: 2.2253670692443848 Training Accuracy: 0.5979374801776086 Validation Accuracy: 0.20619347545219638\n",
        "Epoch: 31/80 Loss: 2.3426148891448975 Training Accuracy: 0.6009058832857596 Validation Accuracy: 0.2093830749354005\n",
        "Epoch: 32/80 Loss: 2.332681894302368 Training Accuracy: 0.6019267364414843 Validation Accuracy: 0.20897932816537468\n",
        "Epoch: 33/80 Loss: 2.2014544010162354 Training Accuracy: 0.6040130431335237 Validation Accuracy: 0.2081314599483204\n",
        "Epoch: 34/80 Loss: 2.274782419204712 Training Accuracy: 0.6047687718046305 Validation Accuracy: 0.20778827519379844\n",
        "Epoch: 35/80 Loss: 2.1733882427215576 Training Accuracy: 0.6062430621630194 Validation Accuracy: 0.20843427002583978\n",
        "Epoch: 36/80 Loss: 2.387843370437622 Training Accuracy: 0.6064462416745956 Validation Accuracy: 0.20784883720930233\n",
        "Epoch: 37/80 Loss: 2.2462077140808105 Training Accuracy: 0.6079254876308278 Validation Accuracy: 0.2066779715762274\n",
        "Epoch: 38/80 Loss: 2.376753091812134 Training Accuracy: 0.6089537741833174 Validation Accuracy: 0.20696059431524547\n",
        "Epoch: 39/80 Loss: 2.3456149101257324 Training Accuracy: 0.6089859855692991 Validation Accuracy: 0.20726340439276486\n",
        "Epoch: 40/80 Loss: 2.1606013774871826 Training Accuracy: 0.6090578417380272 Validation Accuracy: 0.20496204780361757\n",
        "Epoch: 41/80 Loss: 2.271935224533081 Training Accuracy: 0.6103685973675864 Validation Accuracy: 0.20803052325581395\n",
        "Epoch: 42/80 Loss: 2.3323261737823486 Training Accuracy: 0.6111144148430067 Validation Accuracy: 0.20552729328165376\n",
        "Epoch: 43/80 Loss: 2.3810842037200928 Training Accuracy: 0.6130272756105296 Validation Accuracy: 0.2079497739018088\n",
        "Epoch: 44/80 Loss: 2.234307050704956 Training Accuracy: 0.6117561647637171 Validation Accuracy: 0.20744509043927647\n",
        "Epoch: 45/80 Loss: 2.23294734954834 Training Accuracy: 0.6126010941960038 Validation Accuracy: 0.20623385012919895\n",
        "Epoch: 46/80 Loss: 2.2656517028808594 Training Accuracy: 0.6141298961306692 Validation Accuracy: 0.20673853359173128\n",
        "Epoch: 47/80 Loss: 2.1471002101898193 Training Accuracy: 0.615076415318744 Validation Accuracy: 0.20831314599483206\n",
        "Epoch: 48/80 Loss: 2.2624404430389404 Training Accuracy: 0.6146180225182366 Validation Accuracy: 0.20744509043927647\n",
        "Epoch: 49/80 Loss: 2.067301034927368 Training Accuracy: 0.6156537424674913 Validation Accuracy: 0.20439680232558138\n",
        "Epoch: 50/80 Loss: 2.1581404209136963 Training Accuracy: 0.6166250396447828 Validation Accuracy: 0.20772771317829458\n",
        "Epoch: 51/80 Loss: 2.3004283905029297 Training Accuracy: 0.6159337337456391 Validation Accuracy: 0.20568879198966408\n",
        "Epoch: 52/80 Loss: 2.162137031555176 Training Accuracy: 0.6173659015223597 Validation Accuracy: 0.20548691860465115\n",
        "Epoch: 53/80 Loss: 2.293323516845703 Training Accuracy: 0.6176062480177609 Validation Accuracy: 0.2058704780361757\n",
        "Epoch: 54/80 Loss: 2.1614606380462646 Training Accuracy: 0.6171032548366635 Validation Accuracy: 0.20708171834625322\n",
        "Epoch: 55/80 Loss: 2.266111373901367 Training Accuracy: 0.6180547296225817 Validation Accuracy: 0.20776808785529716\n",
        "Epoch: 56/80 Loss: 2.1275548934936523 Training Accuracy: 0.6175988146209959 Validation Accuracy: 0.20623385012919895\n",
        "Epoch: 57/80 Loss: 2.2212812900543213 Training Accuracy: 0.6184387884554393 Validation Accuracy: 0.20597141472868216\n",
        "Epoch: 58/80 Loss: 2.180265426635742 Training Accuracy: 0.6187931137012369 Validation Accuracy: 0.20504279715762275\n",
        "Epoch: 59/80 Loss: 2.205768346786499 Training Accuracy: 0.6188352362829052 Validation Accuracy: 0.20837370801033592\n",
        "Epoch: 60/80 Loss: 2.117110013961792 Training Accuracy: 0.619246550903901 Validation Accuracy: 0.20653666020671835\n",
        "Epoch: 61/80 Loss: 2.223167657852173 Training Accuracy: 0.6185379004123057 Validation Accuracy: 0.20724321705426357\n",
        "Epoch: 62/80 Loss: 2.2225825786590576 Training Accuracy: 0.6198337892483349 Validation Accuracy: 0.20578972868217055\n",
        "Epoch: 63/80 Loss: 2.0167605876922607 Training Accuracy: 0.6199775015857913 Validation Accuracy: 0.20807089793281655\n",
        "Epoch: 64/80 Loss: 2.2954180240631104 Training Accuracy: 0.6193159292737076 Validation Accuracy: 0.20637516149870802\"\"\""
      ]
    },
    {
      "cell_type": "code",
      "source": [
        "import nltk\n",
        "nltk.download('punkt')"
      ],
      "metadata": {
        "colab": {
          "base_uri": "https://localhost:8080/"
        },
        "id": "1tbJ9F_k5Vx6",
        "outputId": "20553aca-a6d3-4d6e-9473-41c53ba85c56"
      },
      "execution_count": null,
      "outputs": [
        {
          "output_type": "stream",
          "name": "stderr",
          "text": [
            "[nltk_data] Downloading package punkt to /root/nltk_data...\n",
            "[nltk_data]   Unzipping tokenizers/punkt.zip.\n"
          ]
        },
        {
          "output_type": "execute_result",
          "data": {
            "text/plain": [
              "True"
            ]
          },
          "metadata": {},
          "execution_count": 21
        }
      ]
    },
    {
      "cell_type": "code",
      "source": [
        "import pandas as pd\n",
        "data = {\n",
        "    'Epoch': [i for i in range(1,65)]\n",
        "}\n",
        "data['Loss']= [float(i.split()[3]) for i in train_stats.split('\\n')]\n",
        "df = pd.DataFrame(data,columns=['Epoch','Loss'])\n",
        "print(df[:20])"
      ],
      "metadata": {
        "colab": {
          "base_uri": "https://localhost:8080/"
        },
        "id": "W3uvAnfH4sMR",
        "outputId": "969b33cc-3c0c-48ca-ef29-9bf7a5e47541"
      },
      "execution_count": null,
      "outputs": [
        {
          "output_type": "stream",
          "name": "stdout",
          "text": [
            "    Epoch      Loss\n",
            "0       1  4.553792\n",
            "1       2  4.471577\n",
            "2       3  3.970032\n",
            "3       4  3.652445\n",
            "4       5  3.500349\n",
            "5       6  3.398028\n",
            "6       7  3.014066\n",
            "7       8  2.737580\n",
            "8       9  2.865598\n",
            "9      10  2.801889\n",
            "10     11  2.871608\n",
            "11     12  2.575084\n",
            "12     13  2.703486\n",
            "13     14  2.473367\n",
            "14     15  2.394268\n",
            "15     16  2.518132\n",
            "16     17  2.558898\n",
            "17     18  2.420319\n",
            "18     19  2.345225\n",
            "19     20  2.546688\n"
          ]
        }
      ]
    },
    {
      "cell_type": "markdown",
      "metadata": {
        "id": "PWddEAo0lfiW"
      },
      "source": []
    },
    {
      "cell_type": "code",
      "execution_count": null,
      "metadata": {
        "id": "sQGkc1eDlfie",
        "colab": {
          "base_uri": "https://localhost:8080/",
          "height": 467
        },
        "outputId": "f7d833ef-0983-4546-ef2e-7eb4e8d1ecf1"
      },
      "outputs": [
        {
          "output_type": "execute_result",
          "data": {
            "text/plain": [
              "<Axes: xlabel='Epoch'>"
            ]
          },
          "metadata": {},
          "execution_count": 23
        },
        {
          "output_type": "display_data",
          "data": {
            "text/plain": [
              "<Figure size 640x480 with 1 Axes>"
            ],
            "image/png": "[encoded data removed]"
          },
          "metadata": {}
        }
      ],
      "source": [
        "df.plot(x ='Epoch', y='Loss', kind = 'line')"
      ]
    },
    {
      "cell_type": "code",
      "execution_count": null,
      "metadata": {
        "id": "mQrViRYllfif"
      },
      "outputs": [],
      "source": [
        "val_acc, val_pred, val_per = net.evaluate(validation_dataset)"
      ]
    },
    {
      "cell_type": "code",
      "source": [
        "train_acc, train_pred, train_per = net.evaluate(train_dataset)"
      ],
      "metadata": {
        "id": "12TnO-nR2NEg"
      },
      "execution_count": null,
      "outputs": []
    },
    {
      "cell_type": "code",
      "source": [
        "train_per"
      ],
      "metadata": {
        "colab": {
          "base_uri": "https://localhost:8080/"
        },
        "id": "NvFkAKvw-o-0",
        "outputId": "6b704666-0a90-4f61-e804-c3166f721b77"
      },
      "execution_count": null,
      "outputs": [
        {
          "output_type": "execute_result",
          "data": {
            "text/plain": [
              "2.682654359226992"
            ]
          },
          "metadata": {},
          "execution_count": 61
        }
      ]
    },
    {
      "cell_type": "code",
      "source": [
        "val_per"
      ],
      "metadata": {
        "colab": {
          "base_uri": "https://localhost:8080/"
        },
        "id": "Z2PTWxDH-rqm",
        "outputId": "07dd0f23-e191-47c5-ad4a-cfa5b4a24db0"
      },
      "execution_count": null,
      "outputs": [
        {
          "output_type": "execute_result",
          "data": {
            "text/plain": [
              "215.4213812875917"
            ]
          },
          "metadata": {},
          "execution_count": 62
        }
      ]
    },
    {
      "cell_type": "code",
      "execution_count": null,
      "metadata": {
        "id": "_YQ1WWQslfij"
      },
      "outputs": [],
      "source": [
        "def predict(net, dataset,device, word, hidden_state):\n",
        "    token2int = dataset.get_vocab()\n",
        "    int2token = dataset.ind2vocab_h\n",
        "    inputs = torch.tensor(token2int[word]).unsqueeze(0).unsqueeze(0).cuda()\n",
        "    hidden_state = tuple([each.data for each in hidden_state])\n",
        "    out, hidden_state = net(inputs, hidden_state)\n",
        "    output = torch.softmax(out, dim=1).squeeze().cpu().detach().numpy()\n",
        "    top_n_idx = output.argsort()[::-1][:3]\n",
        "\n",
        "    sampled_token_index = token2int['<unk>']\n",
        "    while int2token[sampled_token_index]=='<unk>':\n",
        "      sampled_token_index = np.random.choice(top_n_idx)\n",
        "\n",
        "    return int2token[sampled_token_index], hidden_state\n",
        "\n",
        "def generate(net, dataset,device, size, seed='it is'):\n",
        "    net.cuda()\n",
        "    net.eval()\n",
        "    hidden_state = net.get_hidden(1)\n",
        "    all_tokens = seed.split()\n",
        "    for word in seed.split():\n",
        "        token, hidden_state = predict(net,dataset,device, word, hidden_state)\n",
        "    all_tokens.append(token)\n",
        "    for i in range(size-1):\n",
        "        token, hidden_state = predict(net, dataset,device, all_tokens[-1], hidden_state)\n",
        "        all_tokens.append(token)\n",
        "    return ' '.join(all_tokens)"
      ]
    },
    {
      "cell_type": "code",
      "source": [],
      "metadata": {
        "id": "PeynA4Gn_zAw"
      },
      "execution_count": null,
      "outputs": []
    },
    {
      "cell_type": "code",
      "source": [
        "generate(net,train_dataset,device,7,\"life me always\")"
      ],
      "metadata": {
        "colab": {
          "base_uri": "https://localhost:8080/",
          "height": 36
        },
        "id": "fuCKqzpC5PZ6",
        "outputId": "f2b93bc4-e7ef-4ca8-a71a-d2220f8d301f"
      },
      "execution_count": null,
      "outputs": [
        {
          "output_type": "execute_result",
          "data": {
            "text/plain": [
              "'life me always wonder woman ke sneak peek hoge tho'"
            ],
            "application/vnd.google.colaboratory.intrinsic+json": {
              "type": "string"
            }
          },
          "metadata": {},
          "execution_count": 124
        }
      ]
    },
    {
      "cell_type": "code",
      "source": [
        "!apt install enchant\n",
        "!pip install PyEnchant\n",
        "import enchant"
      ],
      "metadata": {
        "id": "eShO5rVNRXmy"
      },
      "execution_count": null,
      "outputs": []
    },
    {
      "cell_type": "code",
      "source": [
        "def get_mix_factor(sentences):\n",
        "    encs = enchant.Dict(\"en_IN\")\n",
        "    mix_factor = []\n",
        "    for sentence in sentences:\n",
        "        eng_words = 0\n",
        "        total_words = 0\n",
        "        score = 0\n",
        "        words = sentence.split()\n",
        "        total_words += len(words)\n",
        "        for word in words:\n",
        "            if encs.check(word):\n",
        "                eng_words += 1\n",
        "        if eng_words != total_words :\n",
        "            score = eng_words/abs(total_words-eng_words) \n",
        "        if score > 1:\n",
        "            score = 1/score \n",
        "        mix_factor.append(score* 100)\n",
        "    return mix_factor"
      ],
      "metadata": {
        "id": "OgUbv9NIRPXs"
      },
      "execution_count": null,
      "outputs": []
    },
    {
      "cell_type": "code",
      "source": [
        "def generate_random_sentances(net,dataset,device,count,size):\n",
        "    int2token = dataset.ind2vocab_h\n",
        "    sentances = []\n",
        "    for i in range(count):\n",
        "        random_seed = random.randrange(2, len(int2token))\n",
        "        sentance = generate(net,dataset,device,size,int2token[random_seed])\n",
        "        sentances.append(sentance)\n",
        "    mix_factor = get_mix_factor(sentances)\n",
        "    return sentances, mix_factor"
      ],
      "metadata": {
        "id": "Zc7zFzjzRRp0"
      },
      "execution_count": null,
      "outputs": []
    },
    {
      "cell_type": "code",
      "source": [
        "sentances, mix_factor = generate_random_sentances(net,train_dataset,device,100,10)"
      ],
      "metadata": {
        "id": "StW_Ol-eRdPN"
      },
      "execution_count": null,
      "outputs": []
    },
    {
      "cell_type": "code",
      "source": [
        "sum(mix_factor)/len(mix_factor)"
      ],
      "metadata": {
        "colab": {
          "base_uri": "https://localhost:8080/"
        },
        "id": "qiF6h-eYRzev",
        "outputId": "4fa7d2ef-b18a-44e3-d18d-c734a6aacd76"
      },
      "execution_count": null,
      "outputs": [
        {
          "output_type": "execute_result",
          "data": {
            "text/plain": [
              "44.86507936507939"
            ]
          },
          "metadata": {},
          "execution_count": 157
        }
      ]
    },
    {
      "cell_type": "code",
      "source": [
        "generate(net,train_dataset,device,10,\"life me always\")"
      ],
      "metadata": {
        "colab": {
          "base_uri": "https://localhost:8080/",
          "height": 36
        },
        "id": "jBPYjEwjjkId",
        "outputId": "7496b38a-76b1-4aac-80ef-4da7d181312a"
      },
      "execution_count": null,
      "outputs": [
        {
          "output_type": "execute_result",
          "data": {
            "text/plain": [
              "'life me always aisa hi lagta tha wo karke jo usko mila wo'"
            ],
            "application/vnd.google.colaboratory.intrinsic+json": {
              "type": "string"
            }
          },
          "metadata": {},
          "execution_count": 168
        }
      ]
    }
  ],
  "metadata": {
    "kernelspec": {
      "display_name": "Python 3",
      "language": "python",
      "name": "python3"
    },
    "language_info": {
      "codemirror_mode": {
        "name": "ipython",
        "version": 3
      },
      "file_extension": ".py",
      "mimetype": "text/x-python",
      "name": "python",
      "nbconvert_exporter": "python",
      "pygments_lexer": "ipython3",
      "version": "3.8.10"
    },
    "orig_nbformat": 4,
    "colab": {
      "provenance": []
    },
    "accelerator": "GPU",
    "gpuClass": "standard"
  },
  "nbformat": 4,
  "nbformat_minor": 0
}