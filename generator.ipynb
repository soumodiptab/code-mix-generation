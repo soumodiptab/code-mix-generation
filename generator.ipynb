{
 "cells": [
  {
   "cell_type": "code",
   "execution_count": 3,
   "metadata": {},
   "outputs": [],
   "source": [
    "\n"
   ]
  },
  {
   "cell_type": "code",
   "execution_count": 55,
   "metadata": {},
   "outputs": [],
   "source": [
    "import torchtext\n",
    "from torchtext.data.utils import get_tokenizer\n",
    "from sklearn.model_selection import train_test_split\n",
    "import re\n",
    "from cleantext import clean\n",
    "import os\n",
    "from nltk.tokenize import TweetTokenizer"
   ]
  },
  {
   "cell_type": "code",
   "execution_count": 87,
   "metadata": {},
   "outputs": [],
   "source": [
    "# Preprocess the data \n",
    "\n",
    "tweet_tokenizer = TweetTokenizer()\n",
    "tokenizer = get_tokenizer('basic_english')\n",
    "\n",
    "def replace_dates(text):\n",
    "        date_format_a = re.sub(r'\\d{1,2}/\\d{1,2}/\\d{2,4}', ' <DATE> ', text)\n",
    "        date_format_b = re.sub(\n",
    "            r'[A-Za-z]{2,8}\\s\\d{1,2},?\\s\\d {4}', ' <DATE> ', date_format_a)\n",
    "        date_format_c = re.sub(\n",
    "            r'\\d{2} [A-Z][a-z]{2,8} \\d{4}', ' <DATE> ', date_format_b)\n",
    "        return date_format_c\n",
    "\n",
    "def replace_concurrent_punctuation(text):\n",
    "    # replace concurrent punctuation with single punctuation\n",
    "    return re.sub(r'(!|\"|\\#|\\$|%|&|\\'|\\(|\\)|\\*|\\+|,|-|\\.|\\/|:|;|<|=|>|\\?|@|\\[|\\\\|\\]|\\^|_|‘|\\{|\\||\\}|~){2,}', r' ', text)\n",
    "\n",
    "def replace_hash_tags(text):\n",
    "        return re.sub(r'(\\s|^)#(\\w+)', ' <HASHTAG> ', text)\n",
    "\n",
    "def remove_special_characters(text):\n",
    "        # remove special characters other than punctuation\n",
    "        return re.sub(r'[^A-Za-z0-9\\s\\.\\,\\!\\?\\'\\\"\\:\\;\\_\\(\\)]', ' ', text)\n",
    "\n",
    "def remove_extra_spaces(text):\n",
    "        return re.sub(r'\\s{2,}', ' ', text)\n",
    "\n",
    "def replace_hyphenated_words(text):\n",
    "        # replace hyphenated words with words seperated by space\n",
    "        return re.sub(r'(\\w+)-(\\w+)', r'\\1 \\2', text)\n",
    "\n",
    "def read_data(filename, n_lines):\n",
    "    with open(filename, 'r') as f:\n",
    "        lines = []\n",
    "        for _ in range(n_lines):\n",
    "            line = f.readline()\n",
    "            line = replace_dates(line)\n",
    "            line = replace_hyphenated_words(line)\n",
    "            line = replace_hash_tags(line)\n",
    "            line = clean(line, no_emoji=True,\n",
    "                         replace_with_url=\"<URL>\",\n",
    "                         replace_with_email=\"<EMAIL>\",\n",
    "                         replace_with_phone_number=\"<PHONE>\",\n",
    "                         replace_with_currency_symbol=\"<CURRENCY>\",\n",
    "                         lower=True)\n",
    "            line = remove_special_characters(line)\n",
    "            line = replace_concurrent_punctuation(line)\n",
    "            line = clean(line, replace_with_number=\"<NUMBER>\")\n",
    "            line = remove_extra_spaces(line)\n",
    "            lines.append(tokenizer(line))\n",
    "    return lines\n",
    "\n",
    "\n",
    "def save_data(filename, lines):\n",
    "    # Save the data to a file\n",
    "    with open(filename, 'w')as f:\n",
    "        for line in lines:\n",
    "            line = ' '.join(line)\n",
    "            f.write(line.strip()+'\\n')\n",
    "\n",
    "\n"
   ]
  },
  {
   "cell_type": "code",
   "execution_count": 88,
   "metadata": {},
   "outputs": [],
   "source": [
    "if not os.path.exists('./processed_data'):\n",
    "    os.mkdir('processed_data')\n",
    "\n",
    "data = read_data('data/alternate/L3Cube-HingCorpus_roman/R11_final_data/concatenated_train_final_shuffled.txt',100000)\n",
    "train,valid = train_test_split(data, test_size=0.3, random_state=42)\n",
    "valid,test=train_test_split(valid, test_size=0.5, random_state=42)\n",
    "#print(train[1:100])\n",
    "save_data('processed_data/train.txt', train)\n",
    "save_data('processed_data/valid.txt', valid)\n",
    "save_data('processed_data/test.txt', test)"
   ]
  },
  {
   "cell_type": "code",
   "execution_count": null,
   "metadata": {},
   "outputs": [],
   "source": [
    "#---------------------------------------------------------------------"
   ]
  },
  {
   "cell_type": "code",
   "execution_count": 65,
   "metadata": {},
   "outputs": [],
   "source": [
    "import torch\n",
    "from torch.utils.data import Dataset, DataLoader"
   ]
  },
  {
   "cell_type": "code",
   "execution_count": 89,
   "metadata": {},
   "outputs": [],
   "source": [
    "class L3CubeDataset(Dataset):\n",
    "    def __init__(self,filename,vocab=None):\n",
    "        data = self.read_data(filename)\n",
    "        if vocab is None:\n",
    "            self.vocab, self.ind2vocab = self.build_vocab(data)\n",
    "        else:\n",
    "            self.vocab = vocab\n",
    "            self.ind2vocab = {v:k for k,v in vocab.items()}\n",
    "        self.data= data\n",
    "        \n",
    "    def get_vocab(self):\n",
    "        return self.vocab\n",
    "\n",
    "    def read_data(self,filename):\n",
    "        lines = []\n",
    "        with open(filename, 'r') as f:\n",
    "            for line in f.readlines():\n",
    "                lines.append(line.strip().split(' '))\n",
    "        return lines\n",
    "\n",
    "    def build_vocab(self,data):\n",
    "        word_set = set()\n",
    "        for line in data:\n",
    "            for word in line:\n",
    "                if word not in word_set:\n",
    "                    word_set.add(word)\n",
    "        # sort the vocab\n",
    "        word_list = sorted(list(word_set))\n",
    "        vocab_dict = {}\n",
    "        for i,word in enumerate(word_list):\n",
    "            vocab_dict[word]=i+2\n",
    "        ind2word = {v:k for k,v in vocab_dict.items()}\n",
    "        return vocab_dict, ind2word\n",
    "    \n",
    "    \n",
    "    def __create_dataset(self, data):\n",
    "        x = []\n",
    "        # for line in data:\n",
    "        #     line = line.strip()\n",
    "        #     x.append(line.split('\\t')[0])\n",
    "        #     y.append(line.split('\\t')[1])\n",
    "        return x  \n",
    "\n",
    "    def __len__(self):\n",
    "        return len(self.data)\n",
    "\n",
    "    def __getitem__(self, idx):\n",
    "        return self.data[idx]\n",
    "    \n",
    "    def get_dataloader(self, batch_size,shuffle=True):\n",
    "        return DataLoader(self, batch_size=batch_size, shuffle=shuffle)"
   ]
  },
  {
   "cell_type": "code",
   "execution_count": 90,
   "metadata": {},
   "outputs": [],
   "source": [
    "train_dataset = L3CubeDataset('processed_data/train.txt')"
   ]
  },
  {
   "cell_type": "code",
   "execution_count": 91,
   "metadata": {},
   "outputs": [
    {
     "data": {
      "text/plain": [
       "49895"
      ]
     },
     "execution_count": 91,
     "metadata": {},
     "output_type": "execute_result"
    }
   ],
   "source": [
    "import json\n",
    "json.dump(train_dataset.get_vocab(),open('vocab.json','w'))\n",
    "len(train_dataset.get_vocab())"
   ]
  },
  {
   "cell_type": "code",
   "execution_count": null,
   "metadata": {},
   "outputs": [],
   "source": [
    "class LinceDataset(Dataset):\n",
    "    def __init__(self,filename,vocab=None):\n",
    "        data = self.read_data(filename)\n",
    "        if vocab is None:\n",
    "            self.vocab, self.ind2vocab = self.build_vocab(data)\n",
    "        else:\n",
    "            self.vocab = vocab\n",
    "            self.ind2vocab = {v:k for k,v in vocab.items()}\n",
    "        self.data= data\n",
    "        \n",
    "    def get_vocab(self):\n",
    "        return self.vocab\n",
    "\n",
    "    def read_data(filename):\n",
    "        lines = []\n",
    "        with open(filename, 'r') as f:\n",
    "            for line in f.readlines():\n",
    "                lines.append(line.strip().split('\\t')[1].split(' '))\n",
    "        return lines\n",
    "\n",
    "    def build_vocab(self,data):\n",
    "        word_set = set()\n",
    "        for line in data:\n",
    "            for word in line:\n",
    "                if word not in word_set:\n",
    "                    word_set.add(word)\n",
    "        # sort the vocab\n",
    "        word_list = sorted(list(word_set))\n",
    "        vocab_dict = {}\n",
    "        for i,word in enumerate(word_list):\n",
    "            vocab_dict[word]=i+2\n",
    "        ind2word = {v:k for k,v in vocab_dict.items()}\n",
    "        return vocab_dict, ind2word\n",
    "\n",
    "    def __create_dataset(self, data):\n",
    "       pass\n",
    "\n",
    "    def __len__(self):\n",
    "        return len(self.data)\n",
    "\n",
    "    def __getitem__(self, idx):\n",
    "        return self.data[idx]\n"
   ]
  }
 ],
 "metadata": {
  "kernelspec": {
   "display_name": "Python 3",
   "language": "python",
   "name": "python3"
  },
  "language_info": {
   "codemirror_mode": {
    "name": "ipython",
    "version": 3
   },
   "file_extension": ".py",
   "mimetype": "text/x-python",
   "name": "python",
   "nbconvert_exporter": "python",
   "pygments_lexer": "ipython3",
   "version": "3.8.10"
  },
  "orig_nbformat": 4
 },
 "nbformat": 4,
 "nbformat_minor": 2
}
