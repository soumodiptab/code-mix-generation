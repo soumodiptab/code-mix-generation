{
 "cells": [
  {
   "cell_type": "code",
   "execution_count": 3,
   "metadata": {},
   "outputs": [],
   "source": [
    "import torch\n",
    "from torch.utils.data import Dataset, DataLoader\n",
    "\n"
   ]
  },
  {
   "cell_type": "code",
   "execution_count": 14,
   "metadata": {},
   "outputs": [],
   "source": [
    "class L3CubeDataset(Dataset):\n",
    "    def __init__(self,filename,vocab=None):\n",
    "        data = self.read_data(filename)\n",
    "        if vocab is None:\n",
    "            self.vocab, self.ind2vocab = self.build_vocab(data)\n",
    "        else:\n",
    "            self.vocab = vocab\n",
    "            self.ind2vocab = {v:k for k,v in vocab.items()}\n",
    "        self.data= data\n",
    "        \n",
    "    def get_vocab(self):\n",
    "        return self.vocab\n",
    "\n",
    "    def read_data(self,filename):\n",
    "        lines = []\n",
    "        with open(filename, 'r') as f:\n",
    "            for line in f.readlines():\n",
    "                lines.append(line.strip().split(' '))\n",
    "        return lines\n",
    "\n",
    "    def build_vocab(self,data):\n",
    "        word_set = set()\n",
    "        for line in data:\n",
    "            for word in line:\n",
    "                if word not in word_set:\n",
    "                    word_set.add(word)\n",
    "        # sort the vocab\n",
    "        word_list = sorted(list(word_set))\n",
    "        vocab_dict = {}\n",
    "        for i,word in enumerate(word_list):\n",
    "            vocab_dict[word]=i+2\n",
    "        ind2word = {v:k for k,v in vocab_dict.items()}\n",
    "        return vocab_dict, ind2word\n",
    "    \n",
    "    \n",
    "    def __create_dataset(self, data):\n",
    "        x = []\n",
    "        # for line in data:\n",
    "        #     line = line.strip()\n",
    "        #     x.append(line.split('\\t')[0])\n",
    "        #     y.append(line.split('\\t')[1])\n",
    "        return x  \n",
    "\n",
    "    def __len__(self):\n",
    "        return len(self.data)\n",
    "\n",
    "    def __getitem__(self, idx):\n",
    "        return self.data[idx]\n",
    "    \n",
    "    def get_dataloader(self, batch_size,shuffle=True):\n",
    "        return DataLoader(self, batch_size=batch_size, shuffle=shuffle)"
   ]
  },
  {
   "cell_type": "code",
   "execution_count": 15,
   "metadata": {},
   "outputs": [],
   "source": [
    "train_dataset = L3CubeDataset('processed_data/train.txt')"
   ]
  },
  {
   "cell_type": "code",
   "execution_count": 16,
   "metadata": {},
   "outputs": [
    {
     "data": {
      "text/plain": [
       "116261"
      ]
     },
     "execution_count": 16,
     "metadata": {},
     "output_type": "execute_result"
    }
   ],
   "source": [
    "len(train_dataset.get_vocab())"
   ]
  }
 ],
 "metadata": {
  "kernelspec": {
   "display_name": "Python 3",
   "language": "python",
   "name": "python3"
  },
  "language_info": {
   "codemirror_mode": {
    "name": "ipython",
    "version": 3
   },
   "file_extension": ".py",
   "mimetype": "text/x-python",
   "name": "python",
   "nbconvert_exporter": "python",
   "pygments_lexer": "ipython3",
   "version": "3.8.10"
  },
  "orig_nbformat": 4
 },
 "nbformat": 4,
 "nbformat_minor": 2
}
