{
  "cells": [
    {
      "cell_type": "code",
      "execution_count": null,
      "metadata": {
        "id": "PtUcwVRJlfhl"
      },
      "outputs": [],
      "source": [
        "      \n",
        "# https://www.kdnuggets.com/2020/07/pytorch-lstm-text-generation-tutorial.html"
      ]
    },
    {
      "cell_type": "code",
      "execution_count": null,
      "metadata": {
        "id": "SJvh4SzMlfhu"
      },
      "outputs": [],
      "source": [
        "import torchtext\n",
        "from torchtext.data.utils import get_tokenizer\n",
        "from sklearn.model_selection import train_test_split\n",
        "import re\n",
        "!pip install cleantext\n",
        "from cleantext import clean\n",
        "import os\n",
        "import random\n",
        "import math\n",
        "from nltk.tokenize import TweetTokenizer\n",
        "import torch\n",
        "from torch.utils.data import Dataset, DataLoader\n",
        "from nltk.tokenize import sent_tokenize\n",
        "from nltk.tokenize import word_tokenize\n"
      ]
    },
    {
      "cell_type": "code",
      "source": [
        "!apt install enchant\n",
        "!pip install PyEnchant\n",
        "import enchant"
      ],
      "metadata": {
        "id": "Ydb5u_PMzED3"
      },
      "execution_count": null,
      "outputs": []
    },
    {
      "cell_type": "code",
      "source": [
        "from google.colab import drive\n",
        "drive.mount('/content/drive')"
      ],
      "metadata": {
        "colab": {
          "base_uri": "https://localhost:8080/"
        },
        "id": "xGPI0XEDmRLG",
        "outputId": "e5fd7768-802c-4abb-ce41-e0c69c7a9d33"
      },
      "execution_count": null,
      "outputs": [
        {
          "output_type": "stream",
          "name": "stdout",
          "text": [
            "Mounted at /content/drive\n"
          ]
        }
      ]
    },
    {
      "cell_type": "code",
      "execution_count": null,
      "metadata": {
        "id": "FR7KMupBlfhw"
      },
      "outputs": [],
      "source": [
        "# Preprocess the data \n",
        "\n",
        "tweet_tokenizer = TweetTokenizer()\n",
        "tokenizer = get_tokenizer('basic_english')\n",
        "\n",
        "def replace_dates(text):\n",
        "        date_format_a = re.sub(r'\\d{1,2}/\\d{1,2}/\\d{2,4}', ' <DATE> ', text)\n",
        "        date_format_b = re.sub(\n",
        "            r'[A-Za-z]{2,8}\\s\\d{1,2},?\\s\\d {4}', ' <DATE> ', date_format_a)\n",
        "        date_format_c = re.sub(\n",
        "            r'\\d{2} [A-Z][a-z]{2,8} \\d{4}', ' <DATE> ', date_format_b)\n",
        "        return date_format_c\n",
        "\n",
        "def replace_concurrent_punctuation(text):\n",
        "    # replace concurrent punctuation with single punctuation\n",
        "    return re.sub(r'(!|\"|\\#|\\$|%|&|\\'|\\(|\\)|\\*|\\+|,|-|\\.|\\/|:|;|<|=|>|\\?|@|\\[|\\\\|\\]|\\^|_|‘|\\{|\\||\\}|~){2,}', r' ', text)\n",
        "\n",
        "def replace_hash_tags(text):\n",
        "        return re.sub(r'(\\s|^)#(\\w+)', ' <HASHTAG> ', text)\n",
        "\n",
        "def remove_special_characters(text):\n",
        "        # remove special characters other than punctuation\n",
        "        return re.sub(r'[^A-Za-z0-9\\s\\.\\,\\!\\?\\'\\\"\\:\\;]', ' ', text)\n",
        "\n",
        "def remove_extra_spaces(text):\n",
        "        return re.sub(r'\\s{2,}', ' ', text)\n",
        "\n",
        "def replace_hyphenated_words(text):\n",
        "        # replace hyphenated words with words seperated by space\n",
        "        return re.sub(r'(\\w+)-(\\w+)', r'\\1 \\2', text)\n",
        "\n",
        "def read_data(filename, n_lines):\n",
        "    with open(filename, 'r') as f:\n",
        "        lines = []\n",
        "        for _ in range(n_lines):\n",
        "            line = f.readline().strip()\n",
        "            line = re.sub(r'<|>', ' ', line)\n",
        "            line = replace_dates(line)\n",
        "            line = replace_hyphenated_words(line)\n",
        "            line = replace_hash_tags(line)\n",
        "            # remove < and > from the text\n",
        "            line = clean(line, no_emoji=True,\n",
        "                         no_urls=True,\n",
        "                         no_emails=True,\n",
        "                         no_phone_numbers=True,\n",
        "                         no_currency_symbols=True,           \n",
        "                         replace_with_url=\" <URL> \",\n",
        "                         replace_with_email=\" <EMAIL> \",\n",
        "                         replace_with_phone_number=\" <PHONE> \",\n",
        "                         replace_with_currency_symbol=\" <CURRENCY> \",\n",
        "                         lower=True)\n",
        "            line = remove_special_characters(line)\n",
        "            #line = replace_concurrent_punctuation(line)\n",
        "            line = clean(line,no_numbers=True,no_digits=True,no_punct=True, replace_with_number=\" <NUMBER> \",replace_with_digit=\" \",replace_with_punct=\"\")\n",
        "            line = \"<BEGIN> \" + line + \" <END>\"\n",
        "            line = remove_extra_spaces(line)\n",
        "            tokens=tokenizer(line)\n",
        "            if len(tokens)>1:\n",
        "                lines.append(tokens)\n",
        "    return lines\n",
        "\n",
        "\n",
        "def save_data(filename, lines):\n",
        "    # Save the data to a file\n",
        "    with open(filename, 'w')as f:\n",
        "        for line in lines:\n",
        "            line = ' '.join(line)\n",
        "            f.write(line.strip()+'\\n')\n",
        "\n",
        "\n"
      ]
    },
    {
      "cell_type": "code",
      "execution_count": null,
      "metadata": {
        "id": "5jP6_F93lfh2"
      },
      "outputs": [],
      "source": [
        "# if not os.path.exists('./processed_data'):\n",
        "#     os.mkdir('processed_data')\n",
        "\n",
        "# data = read_data('data/alternate/L3Cube-HingCorpus_roman/R11_final_data/concatenated_train_final_shuffled.txt',20000)\n",
        "# train,valid = train_test_split(data, test_size=0.3, random_state=42)\n",
        "# valid,test=train_test_split(valid, test_size=0.5, random_state=42)\n",
        "# #print(train[1:100])\n",
        "# save_data('processed_data/train.txt', train)\n",
        "# save_data('processed_data/valid.txt', valid)\n",
        "# save_data('processed_data/test.txt', test)"
      ]
    },
    {
      "cell_type": "code",
      "execution_count": null,
      "metadata": {
        "id": "ot_9u1Eglfh6"
      },
      "outputs": [],
      "source": [
        "#---------------------------------------------------------------------"
      ]
    },
    {
      "cell_type": "code",
      "execution_count": null,
      "metadata": {
        "id": "Syia4OQklfh8"
      },
      "outputs": [],
      "source": [
        "import torch\n",
        "from torch.utils.data import Dataset, DataLoader\n",
        "import numpy as np"
      ]
    },
    {
      "cell_type": "code",
      "execution_count": null,
      "metadata": {
        "id": "fBFNamp0lfh9"
      },
      "outputs": [],
      "source": [
        "class L3CubeDataset(Dataset):\n",
        "    def __init__(self,filename,vocab=None,ngram=5):\n",
        "        data = self.read_data(filename)\n",
        "        if vocab is None:\n",
        "            self.vocab, self.ind2vocab = self.build_vocab(data)\n",
        "        else:\n",
        "            self.vocab = vocab\n",
        "            self.ind2vocab = {v:k for k,v in vocab.items()}\n",
        "        self.n = ngram\n",
        "        self.x,self.y,self.x_type,self.y_type = self.__create_dataset(data)\n",
        "        \n",
        "    def get_vocab(self):\n",
        "        return self.vocab\n",
        "\n",
        "    def read_data(self,filename):\n",
        "        lines = []\n",
        "        with open(filename, 'r') as f:\n",
        "            for line in f.readlines():\n",
        "                lines.append(line.strip().split(' '))\n",
        "        return lines\n",
        "\n",
        "    def build_vocab(self,data):\n",
        "        word_set = set()\n",
        "        for line in data:\n",
        "            for word in line:\n",
        "                if word not in word_set:\n",
        "                    word_set.add(word)\n",
        "        # sort the vocab\n",
        "        word_list = sorted(list(word_set))\n",
        "        vocab_dict = {\"<unk>\":0}\n",
        "        for i,word in enumerate(word_list):\n",
        "            vocab_dict[word]=i+1\n",
        "        ind2word = {v:k for k,v in vocab_dict.items()}\n",
        "        return vocab_dict, ind2word\n",
        "    \n",
        "    def get_ngram(self, tokens):\n",
        "        n =self.n\n",
        "        ngram = []\n",
        "        if len(tokens) == 0:\n",
        "            return None\n",
        "        tokens = [\"<begin>\" for _ in range(n-2)] + tokens\n",
        "        for i in range(len(tokens)-n+1):\n",
        "            ngram.append(tokens[i:i+n])\n",
        "        return ngram\n",
        "    \n",
        "    def __get_seq(self, tokens):\n",
        "        vec= []\n",
        "        for word in tokens:\n",
        "            if word in self.vocab:\n",
        "                vec.append(self.vocab[word])\n",
        "            else:\n",
        "                vec.append(self.vocab[\"<unk>\"])\n",
        "        return vec\n",
        "    \n",
        "    def __get_type(self, tokens):\n",
        "        vec = []\n",
        "        enc = enchant.Dict(\"en_IN\")\n",
        "        for w in tokens:\n",
        "            if enc.check(w): \n",
        "                vec.append(1) #English\n",
        "            else: \n",
        "                vec.append(0) #Hindi\n",
        "        return vec\n",
        "        \n",
        "    def __create_dataset(self, data):\n",
        "        x = []\n",
        "        y= []\n",
        "        x_type = []\n",
        "        y_type = []\n",
        "        ngrams = []\n",
        "        for line in data:\n",
        "            ngrams.extend(self.get_ngram(line))\n",
        "        \n",
        "        for ngram in ngrams:\n",
        "            x_tokens = ngram[:-1]\n",
        "            y_tokens = ngram[1:]\n",
        "            x.append(self.__get_seq(x_tokens))\n",
        "            y.append(self.__get_seq(y_tokens))\n",
        "            x_type.append(self.__get_type(x_tokens))\n",
        "            y_type.append(self.__get_type(y_tokens))\n",
        "        return torch.LongTensor(x),torch.LongTensor(y),torch.LongTensor(x_type),torch.LongTensor(y_type)\n",
        "\n",
        "    def __len__(self):\n",
        "        return len(self.x)\n",
        "\n",
        "    def __getitem__(self, idx):\n",
        "        return self.x[idx], self.y[idx], self.x_type[idx], self.y_type[idx]\n",
        "    \n",
        "    def get_dataloader(self, batch_size,shuffle=True):\n",
        "        return DataLoader(self, batch_size=batch_size, shuffle=shuffle,drop_last=True)\n",
        "    "
      ]
    },
    {
      "cell_type": "code",
      "execution_count": null,
      "metadata": {
        "id": "CGApPw19lfiA"
      },
      "outputs": [],
      "source": [
        "import torch\n",
        "from torch.utils.data import Dataset, DataLoader\n",
        "\n",
        "\n",
        "class LinceDataset(Dataset):\n",
        "    def __init__(self, filename, vocab_english=None, vocab_hinglish=None, ngram=5):\n",
        "        data_english, data_hinglish = self.read_data(filename)\n",
        "        self.word_count ={}\n",
        "        self.single_counts = 0\n",
        "        for list_tokens in data_hinglish:\n",
        "            for token in list_tokens:\n",
        "                if token not in self.word_count:\n",
        "                    self.word_count[token] = 0\n",
        "                self.word_count[token] += 1\n",
        "        \n",
        "        for word in self.word_count:\n",
        "            if self.word_count[word] == 1: \n",
        "                self.single_counts += 1\n",
        "\n",
        "        if vocab_hinglish is None:\n",
        "            self.vocab_h, self.ind2vocab_h = self.build_vocab(data_hinglish)\n",
        "        else:\n",
        "            self.vocab_h = vocab_hinglish\n",
        "            self.ind2vocab_h = {v: k for k, v in vocab_hinglish.items()}\n",
        "        self.n = ngram\n",
        "        self.x, self.y, self.x_type, self.y_type = self.__create_dataset(data_hinglish)\n",
        "\n",
        "    def get_vocab(self):\n",
        "        return self.vocab_h\n",
        "\n",
        "    def read_data(self, filename):\n",
        "        english = []\n",
        "        hinglish = []\n",
        "        with open(filename, 'r') as f:\n",
        "            for line in f.readlines():\n",
        "                e = line.strip().split('\\t')[0]\n",
        "                english.append(e.strip().split(' '))\n",
        "                try:\n",
        "                    h = line.strip().split('\\t')[1]\n",
        "                except:\n",
        "                    h = \"\"\n",
        "                hinglish.append(h.strip().split(' '))\n",
        "        return english, hinglish\n",
        "\n",
        "    def build_vocab(self, data):\n",
        "        word_set = set()\n",
        "        for line in data:\n",
        "            for word in line:\n",
        "                if word not in word_set:\n",
        "                    word_set.add(word)\n",
        "        # sort the vocab\n",
        "        word_list = sorted(list(word_set))\n",
        "        vocab_dict = {\"<unk>\": 0}\n",
        "        for i, word in enumerate(word_list):\n",
        "            vocab_dict[word] = i+1\n",
        "        ind2word = {v: k for k, v in vocab_dict.items()}\n",
        "        return vocab_dict, ind2word\n",
        "\n",
        "    def get_ngram(self, tokens):\n",
        "        n = self.n\n",
        "        ngram = []\n",
        "        if len(tokens) == 0:\n",
        "            return None\n",
        "        tokens = [\"<begin>\" for _ in range(n-2)] + tokens\n",
        "        for i in range(len(tokens)-n+1):\n",
        "            ngram.append(tokens[i:i+n])\n",
        "        return ngram\n",
        "\n",
        "    def __get_seq(self, tokens):\n",
        "        vec = []\n",
        "        for word in tokens:\n",
        "            if word in self.vocab_h:\n",
        "                vec.append(self.vocab_h[word])\n",
        "            else:\n",
        "                vec.append(self.vocab_h[\"<unk>\"])\n",
        "        return vec\n",
        "\n",
        "    def __get_type(self, tokens):\n",
        "        vec = []\n",
        "        enc = enchant.Dict(\"en_IN\")\n",
        "        for w in tokens:\n",
        "            if encṢw): \n",
        "                vec.append(1) #English\n",
        "            else: \n",
        "                vec.append(0) #Hindi\n",
        "        return vec\n",
        "        \n",
        "    def __create_dataset(self, data):\n",
        "        x = []\n",
        "        y = []\n",
        "        x_type = []\n",
        "        y_type = []\n",
        "        ngrams = []\n",
        "        for line in data:\n",
        "            ngrams.extend(self.get_ngram(line))\n",
        "\n",
        "        for ngram in ngrams:\n",
        "            x_tokens = ngram[:-1]\n",
        "            y_tokens = ngram[1:]\n",
        "            x.append(self.__get_seq(x_tokens))\n",
        "            y.append(self.__get_seq(y_tokens))\n",
        "            x_type.append(self.__get_type(x_tokens))\n",
        "            y_type.append(self.__get_type(y_tokens))\n",
        "        return torch.LongTensor(x),torch.LongTensor(y),torch.LongTensor(x_type),torch.LongTensor(y_type)\n",
        "\n",
        "    def __len__(self):\n",
        "        return len(self.x)\n",
        "\n",
        "    def __getitem__(self, idx):\n",
        "        return self.x[idx], self.y[idx], self.x_type[idx], self.y_type[idx]\n",
        "\n",
        "    def get_dataloader(self, batch_size, shuffle=True):\n",
        "        return DataLoader(self, batch_size=batch_size, shuffle=shuffle, drop_last=True)"
      ]
    },
    {
      "cell_type": "code",
      "execution_count": null,
      "metadata": {
        "id": "cDzcpfl0lfiD"
      },
      "outputs": [],
      "source": [
        "train_dataset = LinceDataset('drive/MyDrive/model_nlp_project/data/lince/train.txt')\n",
        "test_dataset = LinceDataset('drive/MyDrive/model_nlp_project/data/lince/test.txt',vocab_hinglish=train_dataset.get_vocab())\n",
        "validation_dataset = LinceDataset('drive/MyDrive/model_nlp_project/data/lince/valid.txt',vocab_hinglish=train_dataset.get_vocab())"
      ]
    },
    {
      "cell_type": "code",
      "source": [],
      "metadata": {
        "id": "GoCA8xPbmkZw"
      },
      "execution_count": null,
      "outputs": []
    },
    {
      "cell_type": "code",
      "execution_count": null,
      "metadata": {
        "id": "w6qkcuHjlfiF"
      },
      "outputs": [],
      "source": [
        "# train_dataset = L3CubeDataset('processed_data/train.txt')\n",
        "# validation_dataset = L3CubeDataset('processed_data/valid.txt',vocab=train_dataset.get_vocab())"
      ]
    },
    {
      "cell_type": "code",
      "execution_count": null,
      "metadata": {
        "id": "ZVe2YRdhlfiH",
        "outputId": "96b74cdd-b6b4-40d7-802d-9f080769aace",
        "colab": {
          "base_uri": "https://localhost:8080/"
        }
      },
      "outputs": [
        {
          "output_type": "execute_result",
          "data": {
            "text/plain": [
              "9237"
            ]
          },
          "metadata": {},
          "execution_count": 13
        }
      ],
      "source": [
        "import json\n",
        "json.dump(train_dataset.get_vocab(),open('vocab.json','w'))\n",
        "len(train_dataset.get_vocab())"
      ]
    },
    {
      "cell_type": "code",
      "execution_count": null,
      "metadata": {
        "id": "l-M8gknBlfiM",
        "outputId": "e56f6340-6a50-475b-c75e-7a0759e2bf98",
        "colab": {
          "base_uri": "https://localhost:8080/"
        }
      },
      "outputs": [
        {
          "output_type": "stream",
          "name": "stdout",
          "text": [
            "aakhirakaar\n",
            "aalochanaatmak\n",
            "aanandadaayak\n",
            "aashcharyachakit\n",
            "aashcharyajanak\n",
            "aatmavishvaas\n",
            "aavashyakata\n",
            "acceidentally\n",
            "accidentally\n",
            "accomplished\n"
          ]
        }
      ],
      "source": [
        "vocab_dict = train_dataset.get_vocab()\n",
        "i=0\n",
        "for word in vocab_dict:\n",
        "    if i == 10:\n",
        "        break\n",
        "    if len(word) > 10:\n",
        "        print(word)\n",
        "        i+=1\n",
        "\n"
      ]
    },
    {
      "cell_type": "code",
      "execution_count": null,
      "metadata": {
        "id": "ILFqZkR0lfiP",
        "outputId": "04cde46c-112b-4138-b65c-a5f5deb871c8",
        "colab": {
          "base_uri": "https://localhost:8080/"
        }
      },
      "outputs": [
        {
          "output_type": "stream",
          "name": "stdout",
          "text": [
            "tensor([   1,    1,  947, 8904]) tensor([   1,  947, 8904, 8052])\n"
          ]
        }
      ],
      "source": [
        "print(train_dataset.x[2],train_dataset.y[2])"
      ]
    },
    {
      "cell_type": "code",
      "execution_count": null,
      "metadata": {
        "id": "0NuEFbxflfiQ"
      },
      "outputs": [],
      "source": [
        "import torch\n",
        "from torch import nn\n",
        "import torch.nn.functional as F\n",
        "from torch.nn.utils import clip_grad_norm_\n",
        "from tqdm import tqdm\n",
        "import numpy as np\n",
        "import os"
      ]
    },
    {
      "cell_type": "code",
      "execution_count": null,
      "metadata": {
        "id": "aOZWbu4qlfiR"
      },
      "outputs": [],
      "source": [
        "class GramNet(nn.Module):\n",
        "    def __init__(self,vocab_size, n_hidden= 9, n_layers=4,embedding_dim=200, dropout=None, lr=0.001,model_save_path='.',device='cuda'):\n",
        "        super().__init__()\n",
        "        self.dropout = dropout\n",
        "        self.n_layers = n_layers\n",
        "        self.n_hidden = n_hidden\n",
        "        self.lr = lr\n",
        "        self.model_save_path = model_save_path\n",
        "        self.device = device\n",
        "        self.vocab_size = vocab_size\n",
        "        self.embedding = nn.Embedding(vocab_size, embedding_dim)\n",
        "        if dropout is not None:\n",
        "            self.rnn_1 = nn.LSTM(embedding_dim, n_hidden, n_layers, dropout=dropout,batch_first=True)\n",
        "            self.rnn_2 = nn.LSTM(embedding_dim, n_hidden, n_layers, dropout=dropout,batch_first=True)\n",
        "        else:\n",
        "            self.rnn_1 = nn.LSTM(embedding_dim, n_hidden, n_layers,batch_first=True)\n",
        "            self.rnn_2 = nn.LSTM(embedding_dim, n_hidden, n_layers,batch_first=True)\n",
        "            dropout = 0\n",
        "        self.fc = nn.Linear(n_hidden, vocab_size)\n",
        "        self.model_name = 'GramNet_'+str(n_hidden)+'_'+str(n_layers)+'_'+str(dropout)+'_'+str(lr)+'.pt'\n",
        "    \n",
        "    def forward(self, x, x_type, hidden_x, hidden_t):\n",
        "        embedded_x = self.embedding(x)    \n",
        "        embedded_t = self.embedding(x_type)    \n",
        "        out_x, hidden_x = self.rnn_1(embedded_x, hidden_x)\n",
        "        out_t, hidden_t = self.rnn_2(embedded_t, hidden_t)\n",
        "        out_x = out_x.reshape(-1, self.n_hidden) \n",
        "        out_t = out_t.reshape(-1, self.n_hidden)\n",
        "        out = torch.cat((out_x, out_t), 0)\n",
        "        out = self.fc(out)\n",
        "        return out, hidden_x, hidden_t\n",
        "    \n",
        "    def __init_hidden(self, batch_size):\n",
        "        weight = next(self.parameters()).data\n",
        "        device = torch.device(\"cuda\" if torch.cuda.is_available() else \"cpu\")\n",
        "        hidden = (weight.new(self.n_layers, batch_size, self.n_hidden).zero_().to(device),\n",
        "                  weight.new(self.n_layers, batch_size, self.n_hidden).zero_().to(device))\n",
        "        return hidden\n",
        "    \n",
        "    def get_hidden(self,b):\n",
        "        return self.__init_hidden(b)\n",
        "\n",
        "    def accuracy(self,true, pred):\n",
        "        true = np.array(true)\n",
        "        pred = np.array(pred)\n",
        "        num_correct = sum(true == pred)\n",
        "        num_total = len(true)\n",
        "        return num_correct / num_total\n",
        "\n",
        "\n",
        "    def run_training(self,train_dataset,valid_dataset, epochs=10, batch_size=32, clip = 1,print_every=1):\n",
        "        device = self.device\n",
        "        if str(device) == 'cpu':\n",
        "            print(\"Training only supported in GPU environment\")\n",
        "            return\n",
        "        torch.cuda.empty_cache()\n",
        "        self.to(device)\n",
        "        train_loader = train_dataset.get_dataloader(batch_size)\n",
        "        optimizer = torch.optim.Adam(self.parameters(), lr=self.lr)\n",
        "        criterion = nn.CrossEntropyLoss()\n",
        "        self.train()\n",
        "        for epoch in range(epochs):\n",
        "            hidden_x = self.__init_hidden(batch_size)\n",
        "            hidden_t = self.__init_hidden(batch_size)\n",
        "            for i, (x, y, x_type, y_type) in enumerate(train_loader):\n",
        "                hidden_x = tuple([each.data for each in hidden_x])\n",
        "                hidden_t = tuple([each.data for each in hidden_t])\n",
        "                x, y, x_type, y_type = x.to(device), y.to(device), x_type.to(device), y_type.to(device)\n",
        "                #print(x)\n",
        "                output, hidden_x, hidden_t = self.forward(x, x_type, hidden_x, hidden_t)\n",
        "                #hidden.detach_()\n",
        "                target = torch.cat((y.view(-1), y_type.view(-1)))\n",
        "                loss = criterion(output, target)\n",
        "                optimizer.zero_grad()\n",
        "                loss.backward()\n",
        "                clip_grad_norm_(self.parameters(), clip)\n",
        "                optimizer.step()\n",
        "            if i % print_every == 0:\n",
        "                acc,_,perp = self.evaluate(train_dataset)\n",
        "                acc2,_,perp2 = self.evaluate(valid_dataset)\n",
        "                self.train()\n",
        "                print(\"Epoch: {}/{}\".format(epoch+1, epochs),\n",
        "#                       \"Step: {}\".format(i),\n",
        "                      \"Loss: {}\".format(loss.item()),\n",
        "                      \"Training Accuracy: {}\".format(acc),\n",
        "                      \"Validation Accuracy: {}\".format(acc2))\n",
        "        #self.save(os.path.join(self.model_save_path,self.model_name))\n",
        "    \n",
        "    def evaluate(self, dataset,batch_size=32):\n",
        "        device = self.device\n",
        "        self.to(device)\n",
        "        self.eval()\n",
        "        loader = dataset.get_dataloader(batch_size)\n",
        "        hidden_x = self.__init_hidden(batch_size)\n",
        "        hidden_t = self.__init_hidden(batch_size)\n",
        "        preds = []\n",
        "        trues = []\n",
        "        total_loss = 0\n",
        "        num_tokens = 0\n",
        "        perp = []\n",
        "        for i, (x, y, x_type, y_type) in enumerate(loader):\n",
        "            hidden_x = tuple([each.data for each in hidden_x])\n",
        "            hidden_t = tuple([each.data for each in hidden_t])\n",
        "            x, y, x_type, y_type = x.to(device), y.to(device), x_type.to(device), y_type.to(device)\n",
        "            criterion = nn.CrossEntropyLoss()\n",
        "            output, hidden_x, hidden_t = self.forward(x, x_type, hidden_x, hidden_t)\n",
        "            target = torch.cat((y.view(-1), y_type.view(-1)))\n",
        "            loss = criterion(output, target)\n",
        "            np_out = output.argmax(dim=1).cpu().numpy()\n",
        "            preds.extend(np_out[:len(np_out)//2])\n",
        "            trues.extend(y.view(-1).cpu().numpy())\n",
        "            total_loss += loss.item()* batch_size\n",
        "            num_tokens += batch_size * 5\n",
        "            perp.append(2 ** loss.item())\n",
        "        perplexity = 2 ** math.exp(total_loss / num_tokens)\n",
        "        accuracy = self.accuracy(trues, preds)\n",
        "        return accuracy, preds, perplexity\n",
        "\n",
        "    def predict(self,inputs):\n",
        "        self.eval()\n",
        "        device = self.device\n",
        "        inputs = torch.LongTensor(inputs)\n",
        "        #inputs = inputs.to(device)\n",
        "        hidden_x = self.__init_hidden(1)\n",
        "        hidden_t = self.__init_hidden(1)\n",
        "        output, hidden_x, hidden_t = self.forward(inputs, hidden_x, hidden_t)\n",
        "        #return output.argmax(dim=1).cpu().numpy()\n",
        "\n",
        "    def save(self,filename):\n",
        "        torch.save(self.state_dict(), filename)\n",
        "\n",
        "    def load(self,filename):\n",
        "        self.load_state_dict(torch.load(filename))"
      ]
    },
    {
      "cell_type": "code",
      "execution_count": null,
      "metadata": {
        "id": "yorSrZjxlfiT",
        "outputId": "603bfc94-05d3-4e30-81d6-355742846739",
        "colab": {
          "base_uri": "https://localhost:8080/"
        }
      },
      "outputs": [
        {
          "output_type": "stream",
          "name": "stdout",
          "text": [
            "GramNet(\n",
            "  (embedding): Embedding(9237, 200)\n",
            "  (rnn_1): LSTM(200, 512, num_layers=3, batch_first=True, dropout=0.2)\n",
            "  (rnn_2): LSTM(200, 512, num_layers=3, batch_first=True, dropout=0.2)\n",
            "  (fc): Linear(in_features=512, out_features=9237, bias=True)\n",
            ")\n"
          ]
        }
      ],
      "source": [
        "vocab_size =len(train_dataset.get_vocab())\n",
        "net = GramNet(vocab_size,512,3,200,0.2,0.001,\"saved_models\")\n",
        "print(net)"
      ]
    },
    {
      "cell_type": "code",
      "source": [
        "device = torch.device('cuda' if torch.cuda.is_available() else 'cpu')\n",
        "torch.manual_seed(0)"
      ],
      "metadata": {
        "colab": {
          "base_uri": "https://localhost:8080/"
        },
        "id": "-gnYDstPuNBD",
        "outputId": "630ee1e7-f546-40d3-d4b5-4d459242cd9d"
      },
      "execution_count": null,
      "outputs": [
        {
          "output_type": "execute_result",
          "data": {
            "text/plain": [
              "<torch._C.Generator at 0x7facfc8a3130>"
            ]
          },
          "metadata": {},
          "execution_count": 71
        }
      ]
    },
    {
      "cell_type": "code",
      "source": [
        "#net.load('./drive/MyDrive/model_nlp_project/v3.pt')"
      ],
      "metadata": {
        "id": "XbSUmSoZuKQ5"
      },
      "execution_count": null,
      "outputs": []
    },
    {
      "cell_type": "code",
      "execution_count": null,
      "metadata": {
        "id": "Hf8UagvxlfiU",
        "colab": {
          "base_uri": "https://localhost:8080/"
        },
        "outputId": "e541dc9a-cd9a-4ecc-f4ed-0292bf3b3333"
      },
      "outputs": [
        {
          "output_type": "stream",
          "name": "stdout",
          "text": [
            "Epoch: 1/25 Loss: 1.4903385639190674 Training Accuracy: 0.5917652830637488 Validation Accuracy: 0.21220930232558138\n",
            "Epoch: 2/25 Loss: 1.493507742881775 Training Accuracy: 0.5936533658420552 Validation Accuracy: 0.21047319121447028\n",
            "Epoch: 3/25 Loss: 1.4069172143936157 Training Accuracy: 0.5947758087535681 Validation Accuracy: 0.21132105943152454\n",
            "Epoch: 4/25 Loss: 1.6069368124008179 Training Accuracy: 0.5972858190612116 Validation Accuracy: 0.21039244186046513\n",
            "Epoch: 5/25 Loss: 1.3905386924743652 Training Accuracy: 0.5981703932762449 Validation Accuracy: 0.21087693798449614\n",
            "Epoch: 6/25 Loss: 1.4298255443572998 Training Accuracy: 0.5997338843958135 Validation Accuracy: 0.20954457364341086\n",
            "Epoch: 7/25 Loss: 1.44593346118927 Training Accuracy: 0.6019391254360926 Validation Accuracy: 0.2099281330749354\n",
            "Epoch: 8/25 Loss: 1.5102916955947876 Training Accuracy: 0.6027543212813193 Validation Accuracy: 0.21041262919896642\n",
            "Epoch: 9/25 Loss: 1.4424082040786743 Training Accuracy: 0.6035942951157628 Validation Accuracy: 0.20910045219638243\n",
            "Epoch: 10/25 Loss: 1.4357393980026245 Training Accuracy: 0.604632492863939 Validation Accuracy: 0.2109576873385013\n",
            "Epoch: 11/25 Loss: 1.5040556192398071 Training Accuracy: 0.6067633999365684 Validation Accuracy: 0.21049337855297157\n",
            "Epoch: 12/25 Loss: 1.3961156606674194 Training Accuracy: 0.606267840152236 Validation Accuracy: 0.2106952519379845\n",
            "Epoch: 13/25 Loss: 1.3451056480407715 Training Accuracy: 0.6075290398033619 Validation Accuracy: 0.21065487726098192\n",
            "Epoch: 14/25 Loss: 1.4890636205673218 Training Accuracy: 0.6085697153504599 Validation Accuracy: 0.21251211240310078\n",
            "Epoch: 15/25 Loss: 1.4300934076309204 Training Accuracy: 0.6099225935616873 Validation Accuracy: 0.2098877583979328\n",
            "Epoch: 16/25 Loss: 1.3910133838653564 Training Accuracy: 0.6108170789724072 Validation Accuracy: 0.20958494832041344\n",
            "Epoch: 17/25 Loss: 1.5083985328674316 Training Accuracy: 0.6113052053599747 Validation Accuracy: 0.20807089793281655\n",
            "Epoch: 18/25 Loss: 1.4016237258911133 Training Accuracy: 0.6117165199809705 Validation Accuracy: 0.20879764211886304\n",
            "Epoch: 19/25 Loss: 1.4752041101455688 Training Accuracy: 0.6116892641928322 Validation Accuracy: 0.2094234496124031\n",
            "Epoch: 20/25 Loss: 1.4678726196289062 Training Accuracy: 0.612972764034253 Validation Accuracy: 0.21126049741602068\n",
            "Epoch: 21/25 Loss: 1.456553339958191 Training Accuracy: 0.6144866991753886 Validation Accuracy: 0.209625322997416\n",
            "Epoch: 22/25 Loss: 1.4098739624023438 Training Accuracy: 0.6147220900729464 Validation Accuracy: 0.208656330749354\n",
            "Epoch: 23/25 Loss: 1.3973631858825684 Training Accuracy: 0.6150194259435459 Validation Accuracy: 0.20883801679586564\n",
            "Epoch: 24/25 Loss: 1.383621096611023 Training Accuracy: 0.615604186489058 Validation Accuracy: 0.2092013888888889\n",
            "Epoch: 25/25 Loss: 1.4683634042739868 Training Accuracy: 0.6159213447510308 Validation Accuracy: 0.2094032622739018\n"
          ]
        }
      ],
      "source": [
        "net.run_training(train_dataset,validation_dataset, epochs=25, batch_size=64, clip = 1,print_every=1)"
      ]
    },
    {
      "cell_type": "code",
      "source": [
        "net.save('./drive/MyDrive/model_nlp_project/v4.pt')"
      ],
      "metadata": {
        "id": "N7HLLVPNNWo8"
      },
      "execution_count": null,
      "outputs": []
    },
    {
      "cell_type": "code",
      "source": [
        "train_stats = \"\"\"Epoch: 1/80 Loss: 2.7026469707489014 Training Accuracy: 0.2191613146209959 Validation Accuracy: 0.20122739018087854\n",
        "Epoch: 2/80 Loss: 2.3661463260650635 Training Accuracy: 0.25864256263875673 Validation Accuracy: 0.21412709948320413\n",
        "Epoch: 3/80 Loss: 2.299887180328369 Training Accuracy: 0.3016051181414526 Validation Accuracy: 0.22091004521963825\n",
        "Epoch: 4/80 Loss: 2.2228665351867676 Training Accuracy: 0.3447039525848398 Validation Accuracy: 0.22240390826873385\n",
        "Epoch: 5/80 Loss: 2.0643508434295654 Training Accuracy: 0.38236649619410085 Validation Accuracy: 0.21810400516795866\n",
        "Epoch: 6/80 Loss: 1.9270626306533813 Training Accuracy: 0.41379737551538215 Validation Accuracy: 0.21747819767441862\n",
        "Epoch: 7/80 Loss: 1.8833644390106201 Training Accuracy: 0.43963090707262925 Validation Accuracy: 0.21935562015503876\n",
        "Epoch: 8/80 Loss: 1.7984559535980225 Training Accuracy: 0.46143305978433236 Validation Accuracy: 0.215984334625323\n",
        "Epoch: 9/80 Loss: 1.914871096611023 Training Accuracy: 0.4820830359974627 Validation Accuracy: 0.2139857881136951\n",
        "Epoch: 10/80 Loss: 1.721832036972046 Training Accuracy: 0.4959735767522994 Validation Accuracy: 0.21301679586563307\n",
        "Epoch: 11/80 Loss: 1.704023838043213 Training Accuracy: 0.5091108666349509 Validation Accuracy: 0.216468830749354\n",
        "Epoch: 12/80 Loss: 1.5157939195632935 Training Accuracy: 0.5201767166190929 Validation Accuracy: 0.21511627906976744\n",
        "Epoch: 13/80 Loss: 1.6532515287399292 Training Accuracy: 0.5306924952426261 Validation Accuracy: 0.21380410206718345\n",
        "Epoch: 14/80 Loss: 1.5877525806427002 Training Accuracy: 0.5389757770377418 Validation Accuracy: 0.2121891149870801\n",
        "Epoch: 15/80 Loss: 1.6225851774215698 Training Accuracy: 0.5479082421503331 Validation Accuracy: 0.21289567183462532\n",
        "Epoch: 16/80 Loss: 1.5656821727752686 Training Accuracy: 0.5552177489692357 Validation Accuracy: 0.2126736111111111\n",
        "Epoch: 17/80 Loss: 1.490454912185669 Training Accuracy: 0.5611495995876943 Validation Accuracy: 0.21128068475452197\n",
        "Epoch: 18/80 Loss: 1.5695428848266602 Training Accuracy: 0.5664397002854424 Validation Accuracy: 0.20984738372093023\n",
        "Epoch: 19/80 Loss: 1.4974523782730103 Training Accuracy: 0.5707015144307009 Validation Accuracy: 0.21059431524547803\n",
        "Epoch: 20/80 Loss: 1.4033820629119873 Training Accuracy: 0.5739300864256264 Validation Accuracy: 0.20885820413436693\n",
        "Epoch: 21/80 Loss: 1.5041625499725342 Training Accuracy: 0.5782142007611798 Validation Accuracy: 0.20928213824289404\n",
        "Epoch: 22/80 Loss: 1.5609164237976074 Training Accuracy: 0.5814898509356169 Validation Accuracy: 0.2089187661498708\n",
        "Epoch: 23/80 Loss: 1.543936014175415 Training Accuracy: 0.5832441325721535 Validation Accuracy: 0.20976663436692505\n",
        "Epoch: 24/80 Loss: 1.3973559141159058 Training Accuracy: 0.5881848636219473 Validation Accuracy: 0.20837370801033592\n",
        "Epoch: 25/80 Loss: 1.4607537984848022 Training Accuracy: 0.5899887012369173 Validation Accuracy: 0.21027131782945738\n",
        "Epoch: 26/80 Loss: 1.412239909172058 Training Accuracy: 0.5916067039327625 Validation Accuracy: 0.20930232558139536\n",
        "Epoch: 27/80 Loss: 1.5364179611206055 Training Accuracy: 0.5931578060577228 Validation Accuracy: 0.20853520671834624\n",
        "Epoch: 28/80 Loss: 1.393532395362854 Training Accuracy: 0.5954844592451634 Validation Accuracy: 0.2087168927648579\n",
        "Epoch: 29/80 Loss: 1.4139251708984375 Training Accuracy: 0.5972461742784649 Validation Accuracy: 0.21073562661498707\n",
        "Epoch: 30/80 Loss: 1.4749162197113037 Training Accuracy: 0.5987576316206787 Validation Accuracy: 0.20831314599483206\n",
        "Epoch: 31/80 Loss: 1.4734383821487427 Training Accuracy: 0.6003087337456391 Validation Accuracy: 0.20782864987080105\n",
        "Epoch: 32/80 Loss: 1.375584363937378 Training Accuracy: 0.6024024738344433 Validation Accuracy: 0.2079699612403101\n",
        "Epoch: 33/80 Loss: 1.4976366758346558 Training Accuracy: 0.602779099270536 Validation Accuracy: 0.20829295865633074\n",
        "Epoch: 34/80 Loss: 1.3480896949768066 Training Accuracy: 0.604538336504916 Validation Accuracy: 0.20881782945736435\n",
        "Epoch: 35/80 Loss: 1.323880910873413 Training Accuracy: 0.6047588606089439 Validation Accuracy: 0.20996850775193798\n",
        "Epoch: 36/80 Loss: 1.436211109161377 Training Accuracy: 0.6060894386298763 Validation Accuracy: 0.20730377906976744\n",
        "Epoch: 37/80 Loss: 1.2983429431915283 Training Accuracy: 0.6072069259435459 Validation Accuracy: 0.20550710594315247\n",
        "Epoch: 38/80 Loss: 1.4431071281433105 Training Accuracy: 0.6073655050745322 Validation Accuracy: 0.20855539405684753\n",
        "Epoch: 39/80 Loss: 1.4494435787200928 Training Accuracy: 0.6097218918490327 Validation Accuracy: 0.2083938953488372\n",
        "Epoch: 40/80 Loss: 1.3798036575317383 Training Accuracy: 0.6093155328258801 Validation Accuracy: 0.20899951550387597\n",
        "Epoch: 41/80 Loss: 1.3812819719314575 Training Accuracy: 0.6095484459245163 Validation Accuracy: 0.20873708010335917\n",
        "Epoch: 42/80 Loss: 1.4019793272018433 Training Accuracy: 0.6111714042182049 Validation Accuracy: 0.20752583979328165\n",
        "Epoch: 43/80 Loss: 1.3836045265197754 Training Accuracy: 0.6112680383761497 Validation Accuracy: 0.208656330749354\n",
        "Epoch: 44/80 Loss: 1.3734729290008545 Training Accuracy: 0.6120956232159848 Validation Accuracy: 0.20687984496124032\n",
        "Epoch: 45/80 Loss: 1.3420473337173462 Training Accuracy: 0.6128662186806216 Validation Accuracy: 0.20736434108527133\n",
        "Epoch: 46/80 Loss: 1.4240425825119019 Training Accuracy: 0.6129033856644466 Validation Accuracy: 0.205890665374677\n",
        "Epoch: 47/80 Loss: 1.365136981010437 Training Accuracy: 0.6140952069457659 Validation Accuracy: 0.20776808785529716\n",
        "Epoch: 48/80 Loss: 1.404650330543518 Training Accuracy: 0.6159907231208372 Validation Accuracy: 0.20829295865633074\n",
        "Epoch: 49/80 Loss: 1.4669296741485596 Training Accuracy: 0.615076415318744 Validation Accuracy: 0.2066577842377261\n",
        "Epoch: 50/80 Loss: 1.3719921112060547 Training Accuracy: 0.6149996035521725 Validation Accuracy: 0.20574935400516794\n",
        "Epoch: 51/80 Loss: 1.4383225440979004 Training Accuracy: 0.6154852521408183 Validation Accuracy: 0.20685965762273903\n",
        "Epoch: 52/80 Loss: 1.4171245098114014 Training Accuracy: 0.6159064779575008 Validation Accuracy: 0.20899951550387597\n",
        "Epoch: 53/80 Loss: 1.444632887840271 Training Accuracy: 0.6160378013003489 Validation Accuracy: 0.20657703488372092\n",
        "Epoch: 54/80 Loss: 1.3834213018417358 Training Accuracy: 0.6169471535045988 Validation Accuracy: 0.20776808785529716\n",
        "Epoch: 55/80 Loss: 1.4490810632705688 Training Accuracy: 0.6182232199492547 Validation Accuracy: 0.20728359173126615\n",
        "Epoch: 56/80 Loss: 1.380966067314148 Training Accuracy: 0.6181488859816048 Validation Accuracy: 0.20661740956072353\n",
        "Epoch: 57/80 Loss: 1.4368916749954224 Training Accuracy: 0.6180002180463051 Validation Accuracy: 0.20655684754521964\n",
        "Epoch: 58/80 Loss: 1.482810139656067 Training Accuracy: 0.6185329448144624 Validation Accuracy: 0.20712209302325582\n",
        "Epoch: 59/80 Loss: 1.322883129119873 Training Accuracy: 0.619291151284491 Validation Accuracy: 0.20924176356589147\n",
        "Epoch: 60/80 Loss: 1.440081238746643 Training Accuracy: 0.6184239216619093 Validation Accuracy: 0.2066779715762274\n",
        "Epoch: 61/80 Loss: 1.4405642747879028 Training Accuracy: 0.6195736203615604 Validation Accuracy: 0.20605216408268734\n",
        "Epoch: 62/80 Loss: 1.433550238609314 Training Accuracy: 0.6196083095464637 Validation Accuracy: 0.20750565245478036\n",
        "Epoch: 63/80 Loss: 1.3116416931152344 Training Accuracy: 0.6206019069140501 Validation Accuracy: 0.2087168927648579\n",
        "Epoch: 64/80 Loss: 1.420840859413147 Training Accuracy: 0.6189368260386933 Validation Accuracy: 0.2076469638242894\"\"\""
      ],
      "metadata": {
        "id": "kkzU5HgVxFvA"
      },
      "execution_count": null,
      "outputs": []
    },
    {
      "cell_type": "code",
      "source": [
        "import nltk\n",
        "nltk.download('punkt')"
      ],
      "metadata": {
        "colab": {
          "base_uri": "https://localhost:8080/"
        },
        "id": "1tbJ9F_k5Vx6",
        "outputId": "aad177cb-0d16-4153-cf3c-6945d37e0fe3"
      },
      "execution_count": null,
      "outputs": [
        {
          "output_type": "stream",
          "name": "stderr",
          "text": [
            "[nltk_data] Downloading package punkt to /root/nltk_data...\n",
            "[nltk_data]   Package punkt is already up-to-date!\n"
          ]
        },
        {
          "output_type": "execute_result",
          "data": {
            "text/plain": [
              "True"
            ]
          },
          "metadata": {},
          "execution_count": 74
        }
      ]
    },
    {
      "cell_type": "code",
      "source": [
        "import pandas as pd\n",
        "data = {\n",
        "    'Epoch': [i for i in range(1,65)]\n",
        "}\n",
        "data['Loss']= [float(i.split()[3]) for i in train_stats.split('\\n')]\n",
        "df = pd.DataFrame(data,columns=['Epoch','Loss'])\n",
        "print(df[:20])"
      ],
      "metadata": {
        "colab": {
          "base_uri": "https://localhost:8080/"
        },
        "id": "W3uvAnfH4sMR",
        "outputId": "fbc849c9-f3fc-4f98-d000-48a58835489c"
      },
      "execution_count": null,
      "outputs": [
        {
          "output_type": "stream",
          "name": "stdout",
          "text": [
            "    Epoch      Loss\n",
            "0       1  2.702647\n",
            "1       2  2.366146\n",
            "2       3  2.299887\n",
            "3       4  2.222867\n",
            "4       5  2.064351\n",
            "5       6  1.927063\n",
            "6       7  1.883364\n",
            "7       8  1.798456\n",
            "8       9  1.914871\n",
            "9      10  1.721832\n",
            "10     11  1.704024\n",
            "11     12  1.515794\n",
            "12     13  1.653252\n",
            "13     14  1.587753\n",
            "14     15  1.622585\n",
            "15     16  1.565682\n",
            "16     17  1.490455\n",
            "17     18  1.569543\n",
            "18     19  1.497452\n",
            "19     20  1.403382\n"
          ]
        }
      ]
    },
    {
      "cell_type": "markdown",
      "metadata": {
        "id": "PWddEAo0lfiW"
      },
      "source": []
    },
    {
      "cell_type": "code",
      "execution_count": null,
      "metadata": {
        "id": "sQGkc1eDlfie",
        "colab": {
          "base_uri": "https://localhost:8080/",
          "height": 467
        },
        "outputId": "adb5e6ad-8758-4592-d602-33a1e8ba7ebe"
      },
      "outputs": [
        {
          "output_type": "execute_result",
          "data": {
            "text/plain": [
              "<Axes: xlabel='Epoch'>"
            ]
          },
          "metadata": {},
          "execution_count": 76
        },
        {
          "output_type": "display_data",
          "data": {
            "text/plain": [
              "<Figure size 640x480 with 1 Axes>"
            ],
            "image/png": "[encoded data removed]"
          },
          "metadata": {}
        }
      ],
      "source": [
        "df.plot(x ='Epoch', y='Loss', kind = 'line')"
      ]
    },
    {
      "cell_type": "code",
      "execution_count": null,
      "metadata": {
        "id": "mQrViRYllfif"
      },
      "outputs": [],
      "source": [
        "val_acc, val_pred, val_per = net.evaluate(validation_dataset)"
      ]
    },
    {
      "cell_type": "code",
      "source": [
        "train_acc, train_pred, train_per = net.evaluate(train_dataset)"
      ],
      "metadata": {
        "id": "12TnO-nR2NEg"
      },
      "execution_count": null,
      "outputs": []
    },
    {
      "cell_type": "code",
      "source": [
        "train_per"
      ],
      "metadata": {
        "id": "NvFkAKvw-o-0",
        "colab": {
          "base_uri": "https://localhost:8080/"
        },
        "outputId": "aff554d2-ded7-412f-a150-163f1e816499"
      },
      "execution_count": null,
      "outputs": [
        {
          "output_type": "execute_result",
          "data": {
            "text/plain": [
              "2.4366996327589905"
            ]
          },
          "metadata": {},
          "execution_count": 146
        }
      ]
    },
    {
      "cell_type": "code",
      "source": [
        "val_per"
      ],
      "metadata": {
        "id": "Z2PTWxDH-rqm",
        "colab": {
          "base_uri": "https://localhost:8080/"
        },
        "outputId": "910ee25e-7785-4c49-daf6-3861492b7ada"
      },
      "execution_count": null,
      "outputs": [
        {
          "output_type": "execute_result",
          "data": {
            "text/plain": [
              "6.972607726896829"
            ]
          },
          "metadata": {},
          "execution_count": 148
        }
      ]
    },
    {
      "cell_type": "code",
      "execution_count": null,
      "metadata": {
        "id": "_YQ1WWQslfij"
      },
      "outputs": [],
      "source": [
        "def get_type(tokens):\n",
        "    vec = []\n",
        "    enc = enchant.Dict(\"en_IN\")\n",
        "    for w in tokens:\n",
        "        if enc.check(w): \n",
        "            vec.append(1) #English\n",
        "        else: \n",
        "            vec.append(0) #Hindi\n",
        "    return vec\n",
        "\n",
        "def predict(net, dataset, device, word, word_type, hidden_state_x, hidden_state_t):\n",
        "    token2int = dataset.get_vocab()\n",
        "    int2token = dataset.ind2vocab_h\n",
        "    inputs = torch.tensor(token2int[word]).unsqueeze(0).unsqueeze(0).cuda()\n",
        "    word_type = torch.tensor([[word_type]]).cuda()\n",
        "    hidden_state_x = tuple([each.data for each in hidden_state_x])\n",
        "    hidden_state_t = tuple([each.data for each in hidden_state_t])\n",
        "    out, hidden_state_x, hidden_state_t = net(inputs, word_type, hidden_state_x, hidden_state_t)\n",
        "    output = F.softmax(out, dim=1)[0].cpu().detach().numpy()\n",
        "    top_n_idx = output.argsort()[::-1][:3]\n",
        "    sampled_token_index = token2int['<unk>']\n",
        "    while int2token[sampled_token_index]=='<unk>':\n",
        "      sampled_token_index = np.random.choice(top_n_idx)\n",
        "\n",
        "    return int2token[sampled_token_index], hidden_state_x, hidden_state_t\n",
        "\n",
        "def generate(net, dataset, device, size, seed):\n",
        "    net.cuda()\n",
        "    net.eval()\n",
        "    hidden_state_x = net.get_hidden(1)\n",
        "    hidden_state_t = net.get_hidden(1)\n",
        "    all_tokens = seed.split()\n",
        "    lng = get_type(all_tokens)\n",
        "    for word, typ in zip(seed.split(),lng):\n",
        "        token, hidden_state_x, hidden_state_t = predict(net, dataset, device, word, typ, hidden_state_x, hidden_state_t)\n",
        "    all_tokens.append(token)\n",
        "    for i in range(size-1):\n",
        "        token, hidden_state_x, hidden_state_t = predict(net, dataset, device, all_tokens[-1], typ, hidden_state_x, hidden_state_t)\n",
        "        all_tokens.append(token)\n",
        "    return ' '.join(all_tokens)"
      ]
    },
    {
      "cell_type": "code",
      "source": [
        "generate(net,train_dataset,device,15,\"life\")"
      ],
      "metadata": {
        "colab": {
          "base_uri": "https://localhost:8080/",
          "height": 36
        },
        "id": "Yt9zmhRcYY86",
        "outputId": "95c631b8-a1a4-4089-d5ad-b21cbb95fcf5"
      },
      "execution_count": null,
      "outputs": [
        {
          "output_type": "execute_result",
          "data": {
            "text/plain": [
              "'life ji raha he dusre konse actors ko is movie ke baare mein hai <end> tha'"
            ],
            "application/vnd.google.colaboratory.intrinsic+json": {
              "type": "string"
            }
          },
          "metadata": {},
          "execution_count": 144
        }
      ]
    },
    {
      "cell_type": "code",
      "source": [
        "def get_mix_factor(sentences):\n",
        "    encs = enchant.Dict(\"en_IN\")\n",
        "    mix_factor = []\n",
        "    for sentence in sentences:\n",
        "        eng_words = 0\n",
        "        total_words = 0\n",
        "        score = 0\n",
        "        words = sentence.split()\n",
        "        total_words += len(words)\n",
        "        for word in words:\n",
        "            if encs.check(word):\n",
        "                eng_words += 1\n",
        "        if eng_words != total_words :\n",
        "            score = eng_words/abs(total_words-eng_words) \n",
        "        if score > 1:\n",
        "            score = 1/score \n",
        "        mix_factor.append(score* 100)\n",
        "    return mix_factor"
      ],
      "metadata": {
        "id": "OgUbv9NIRPXs"
      },
      "execution_count": null,
      "outputs": []
    },
    {
      "cell_type": "code",
      "source": [
        "def generate_random_sentances(net,dataset,device,count,size):\n",
        "    int2token = dataset.ind2vocab_h\n",
        "    sentances = []\n",
        "    for i in range(count):\n",
        "        random_seed = random.randrange(2, len(int2token))\n",
        "        sentance = generate(net,dataset,device,size,int2token[random_seed])\n",
        "        sentances.append(sentance)\n",
        "    mix_factor = get_mix_factor(sentances)\n",
        "    return sentances, mix_factor"
      ],
      "metadata": {
        "id": "Zc7zFzjzRRp0"
      },
      "execution_count": null,
      "outputs": []
    },
    {
      "cell_type": "code",
      "source": [
        "sentances, mix_factor = generate_random_sentances(net,train_dataset,device,100,10)"
      ],
      "metadata": {
        "id": "ce1ahRGHUlx7"
      },
      "execution_count": null,
      "outputs": []
    },
    {
      "cell_type": "code",
      "source": [
        "sum(mix_factor)/len(mix_factor)"
      ],
      "metadata": {
        "colab": {
          "base_uri": "https://localhost:8080/"
        },
        "id": "mCslNe2vax_p",
        "outputId": "9eb601e1-808f-4058-99de-9d0dbbeea481"
      },
      "execution_count": null,
      "outputs": [
        {
          "output_type": "execute_result",
          "data": {
            "text/plain": [
              "50.10277777777779"
            ]
          },
          "metadata": {},
          "execution_count": 159
        }
      ]
    },
    {
      "cell_type": "code",
      "source": [
        "generate(net,train_dataset,device,10,\"life me always\")"
      ],
      "metadata": {
        "colab": {
          "base_uri": "https://localhost:8080/",
          "height": 36
        },
        "id": "cgFprBlgjXtO",
        "outputId": "096ad88a-ba7d-45e4-a9d6-9bb337f900f1"
      },
      "execution_count": null,
      "outputs": [
        {
          "output_type": "execute_result",
          "data": {
            "text/plain": [
              "'life me always wonder karti hai yah use itna trouble kiya <end> ne'"
            ],
            "application/vnd.google.colaboratory.intrinsic+json": {
              "type": "string"
            }
          },
          "metadata": {},
          "execution_count": 172
        }
      ]
    }
  ],
  "metadata": {
    "kernelspec": {
      "display_name": "Python 3",
      "language": "python",
      "name": "python3"
    },
    "language_info": {
      "codemirror_mode": {
        "name": "ipython",
        "version": 3
      },
      "file_extension": ".py",
      "mimetype": "text/x-python",
      "name": "python",
      "nbconvert_exporter": "python",
      "pygments_lexer": "ipython3",
      "version": "3.8.10"
    },
    "orig_nbformat": 4,
    "colab": {
      "provenance": []
    },
    "accelerator": "GPU",
    "gpuClass": "standard"
  },
  "nbformat": 4,
  "nbformat_minor": 0
}